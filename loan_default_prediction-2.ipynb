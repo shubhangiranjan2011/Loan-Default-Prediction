{
  "nbformat": 4,
  "nbformat_minor": 0,
  "metadata": {
    "colab": {
      "name": "loan_default_prediction.ipynb",
      "provenance": [],
      "machine_shape": "hm"
    },
    "kernelspec": {
      "name": "python3",
      "display_name": "Python 3"
    },
    "language_info": {
      "name": "python"
    }
  },
  "cells": [
    {
      "cell_type": "markdown",
      "source": [
        "#  Question 1"
      ],
      "metadata": {
        "id": "l2FBNlCaWNtC"
      }
    },
    {
      "cell_type": "markdown",
      "source": [
        "# Load Data"
      ],
      "metadata": {
        "id": "mju4-48wWiEb"
      }
    },
    {
      "cell_type": "code",
      "source": [
        "import pandas as pd\n",
        "import numpy as np\n",
        "import warnings\n",
        "warnings.filterwarnings('ignore')\n",
        "import json\n",
        "import zipfile\n",
        "import requests\n",
        "import joblib\n",
        "import urllib.request\n",
        "import numpy as np  \n",
        "import pandas as pd  \n",
        "import matplotlib.pyplot as plt  \n",
        "import seaborn as sns  \n",
        "import itertools  \n",
        "%matplotlib inline  \n",
        "from sklearn.model_selection import train_test_split  \n",
        "from collections import Counter  \n",
        "from imblearn import under_sampling, over_sampling  \n",
        "from imblearn.over_sampling import SMOTE  \n",
        "from sklearn.model_selection import KFold  \n",
        "from sklearn.model_selection import GridSearchCV  \n",
        "from sklearn.model_selection import RandomizedSearchCV  \n",
        "from sklearn.model_selection import cross_val_score  \n",
        "from imblearn.metrics import classification_report_imbalanced  \n",
        "from sklearn.tree import DecisionTreeClassifier  \n",
        "from sklearn.ensemble import RandomForestClassifier \n",
        "from sklearn.metrics import (precision_score, recall_score, roc_auc_score, accuracy_score,  \n",
        "                                  confusion_matrix, precision_recall_curve, roc_curve, brier_score_loss)  "
      ],
      "metadata": {
        "id": "gg-3IPmeWnL_"
      },
      "execution_count": null,
      "outputs": []
    },
    {
      "cell_type": "code",
      "source": [
        "filename, headers = urllib.request.urlretrieve(url, filename='transactions.zip')"
      ],
      "metadata": {
        "id": "Mbk4KoafW2gG"
      },
      "execution_count": null,
      "outputs": []
    },
    {
      "cell_type": "code",
      "source": [
        "zf = zipfile.ZipFile('transactions.zip', 'r')"
      ],
      "metadata": {
        "id": "bTgiWOLIXSsD"
      },
      "execution_count": null,
      "outputs": []
    },
    {
      "cell_type": "code",
      "source": [
        "zipinfos = zf.infolist()"
      ],
      "metadata": {
        "id": "YQtzYWe2XV-N"
      },
      "execution_count": null,
      "outputs": []
    },
    {
      "cell_type": "code",
      "source": [
        "df = zf.open(zipinfos[0].filename).read().splitlines()"
      ],
      "metadata": {
        "id": "w9T2hpKdXaZk"
      },
      "execution_count": null,
      "outputs": []
    },
    {
      "cell_type": "code",
      "source": [
        "df = [json.loads(rows) for rows in df]"
      ],
      "metadata": {
        "id": "_SRRgKPTXdnA"
      },
      "execution_count": null,
      "outputs": []
    },
    {
      "cell_type": "code",
      "source": [
        "df = pd.DataFrame(df)"
      ],
      "metadata": {
        "id": "a4MYYcL9Xmjp"
      },
      "execution_count": null,
      "outputs": []
    },
    {
      "cell_type": "markdown",
      "source": [
        "### **Describe the structure of the data. Number of records and fields in each record¶**"
      ],
      "metadata": {
        "id": "LhDSyxs_Xrr0"
      }
    },
    {
      "cell_type": "code",
      "source": [
        "df.info(verbose=True)\n",
        "df.shape"
      ],
      "metadata": {
        "colab": {
          "base_uri": "https://localhost:8080/"
        },
        "id": "k9-EMxLFX2mO",
        "outputId": "8393519d-5f20-4531-9adf-d5ed67f5a844"
      },
      "execution_count": null,
      "outputs": [
        {
          "output_type": "stream",
          "name": "stdout",
          "text": [
            "<class 'pandas.core.frame.DataFrame'>\n",
            "RangeIndex: 786363 entries, 0 to 786362\n",
            "Data columns (total 29 columns):\n",
            " #   Column                    Non-Null Count   Dtype  \n",
            "---  ------                    --------------   -----  \n",
            " 0   accountNumber             786363 non-null  object \n",
            " 1   customerId                786363 non-null  object \n",
            " 2   creditLimit               786363 non-null  float64\n",
            " 3   availableMoney            786363 non-null  float64\n",
            " 4   transactionDateTime       786363 non-null  object \n",
            " 5   transactionAmount         786363 non-null  float64\n",
            " 6   merchantName              786363 non-null  object \n",
            " 7   acqCountry                786363 non-null  object \n",
            " 8   merchantCountryCode       786363 non-null  object \n",
            " 9   posEntryMode              786363 non-null  object \n",
            " 10  posConditionCode          786363 non-null  object \n",
            " 11  merchantCategoryCode      786363 non-null  object \n",
            " 12  currentExpDate            786363 non-null  object \n",
            " 13  accountOpenDate           786363 non-null  object \n",
            " 14  dateOfLastAddressChange   786363 non-null  object \n",
            " 15  cardCVV                   786363 non-null  object \n",
            " 16  enteredCVV                786363 non-null  object \n",
            " 17  cardLast4Digits           786363 non-null  object \n",
            " 18  transactionType           786363 non-null  object \n",
            " 19  echoBuffer                786363 non-null  object \n",
            " 20  currentBalance            786363 non-null  float64\n",
            " 21  merchantCity              786363 non-null  object \n",
            " 22  merchantState             786363 non-null  object \n",
            " 23  merchantZip               786363 non-null  object \n",
            " 24  cardPresent               786363 non-null  bool   \n",
            " 25  posOnPremises             786363 non-null  object \n",
            " 26  recurringAuthInd          786363 non-null  object \n",
            " 27  expirationDateKeyInMatch  786363 non-null  bool   \n",
            " 28  isFraud                   786363 non-null  bool   \n",
            "dtypes: bool(3), float64(4), object(22)\n",
            "memory usage: 158.2+ MB\n"
          ]
        },
        {
          "output_type": "execute_result",
          "data": {
            "text/plain": [
              "(786363, 29)"
            ]
          },
          "metadata": {},
          "execution_count": 9
        }
      ]
    },
    {
      "cell_type": "markdown",
      "source": [
        "The dataset has 3 boolean fields , 4 floating fields and 22 objects. It has 29 fields and 786363 records."
      ],
      "metadata": {
        "id": "zGaPePSpY2ms"
      }
    },
    {
      "cell_type": "markdown",
      "source": [
        "## Summary statistics for numerical fields"
      ],
      "metadata": {
        "id": "MOe7AYM8ZC9L"
      }
    },
    {
      "cell_type": "code",
      "source": [
        "df[[ creditLimit , availableMoney ,  transactionAmount , currentBalance ]].describe()"
      ],
      "metadata": {
        "colab": {
          "base_uri": "https://localhost:8080/",
          "height": 300
        },
        "id": "K8QlF11HZFNP",
        "outputId": "bbe823ba-e416-451a-c6f2-c5c3a4e3cb5f"
      },
      "execution_count": null,
      "outputs": [
        {
          "output_type": "execute_result",
          "data": {
            "text/html": [
              "\n",
              "  <div id=\"df-48b12945-6b27-4071-ae67-f592f94361d2\">\n",
              "    <div class=\"colab-df-container\">\n",
              "      <div>\n",
              "<style scoped>\n",
              "    .dataframe tbody tr th:only-of-type {\n",
              "        vertical-align: middle;\n",
              "    }\n",
              "\n",
              "    .dataframe tbody tr th {\n",
              "        vertical-align: top;\n",
              "    }\n",
              "\n",
              "    .dataframe thead th {\n",
              "        text-align: right;\n",
              "    }\n",
              "</style>\n",
              "<table border=\"1\" class=\"dataframe\">\n",
              "  <thead>\n",
              "    <tr style=\"text-align: right;\">\n",
              "      <th></th>\n",
              "      <th>creditLimit</th>\n",
              "      <th>availableMoney</th>\n",
              "      <th>transactionAmount</th>\n",
              "      <th>currentBalance</th>\n",
              "    </tr>\n",
              "  </thead>\n",
              "  <tbody>\n",
              "    <tr>\n",
              "      <th>count</th>\n",
              "      <td>786363.000000</td>\n",
              "      <td>786363.000000</td>\n",
              "      <td>786363.000000</td>\n",
              "      <td>786363.000000</td>\n",
              "    </tr>\n",
              "    <tr>\n",
              "      <th>mean</th>\n",
              "      <td>10759.464459</td>\n",
              "      <td>6250.725369</td>\n",
              "      <td>136.985791</td>\n",
              "      <td>4508.739089</td>\n",
              "    </tr>\n",
              "    <tr>\n",
              "      <th>std</th>\n",
              "      <td>11636.174890</td>\n",
              "      <td>8880.783989</td>\n",
              "      <td>147.725569</td>\n",
              "      <td>6457.442068</td>\n",
              "    </tr>\n",
              "    <tr>\n",
              "      <th>min</th>\n",
              "      <td>250.000000</td>\n",
              "      <td>-1005.630000</td>\n",
              "      <td>0.000000</td>\n",
              "      <td>0.000000</td>\n",
              "    </tr>\n",
              "    <tr>\n",
              "      <th>25%</th>\n",
              "      <td>5000.000000</td>\n",
              "      <td>1077.420000</td>\n",
              "      <td>33.650000</td>\n",
              "      <td>689.910000</td>\n",
              "    </tr>\n",
              "    <tr>\n",
              "      <th>50%</th>\n",
              "      <td>7500.000000</td>\n",
              "      <td>3184.860000</td>\n",
              "      <td>87.900000</td>\n",
              "      <td>2451.760000</td>\n",
              "    </tr>\n",
              "    <tr>\n",
              "      <th>75%</th>\n",
              "      <td>15000.000000</td>\n",
              "      <td>7500.000000</td>\n",
              "      <td>191.480000</td>\n",
              "      <td>5291.095000</td>\n",
              "    </tr>\n",
              "    <tr>\n",
              "      <th>max</th>\n",
              "      <td>50000.000000</td>\n",
              "      <td>50000.000000</td>\n",
              "      <td>2011.540000</td>\n",
              "      <td>47498.810000</td>\n",
              "    </tr>\n",
              "  </tbody>\n",
              "</table>\n",
              "</div>\n",
              "      <button class=\"colab-df-convert\" onclick=\"convertToInteractive('df-48b12945-6b27-4071-ae67-f592f94361d2')\"\n",
              "              title=\"Convert this dataframe to an interactive table.\"\n",
              "              style=\"display:none;\">\n",
              "        \n",
              "  <svg xmlns=\"http://www.w3.org/2000/svg\" height=\"24px\"viewBox=\"0 0 24 24\"\n",
              "       width=\"24px\">\n",
              "    <path d=\"M0 0h24v24H0V0z\" fill=\"none\"/>\n",
              "    <path d=\"M18.56 5.44l.94 2.06.94-2.06 2.06-.94-2.06-.94-.94-2.06-.94 2.06-2.06.94zm-11 1L8.5 8.5l.94-2.06 2.06-.94-2.06-.94L8.5 2.5l-.94 2.06-2.06.94zm10 10l.94 2.06.94-2.06 2.06-.94-2.06-.94-.94-2.06-.94 2.06-2.06.94z\"/><path d=\"M17.41 7.96l-1.37-1.37c-.4-.4-.92-.59-1.43-.59-.52 0-1.04.2-1.43.59L10.3 9.45l-7.72 7.72c-.78.78-.78 2.05 0 2.83L4 21.41c.39.39.9.59 1.41.59.51 0 1.02-.2 1.41-.59l7.78-7.78 2.81-2.81c.8-.78.8-2.07 0-2.86zM5.41 20L4 18.59l7.72-7.72 1.47 1.35L5.41 20z\"/>\n",
              "  </svg>\n",
              "      </button>\n",
              "      \n",
              "  <style>\n",
              "    .colab-df-container {\n",
              "      display:flex;\n",
              "      flex-wrap:wrap;\n",
              "      gap: 12px;\n",
              "    }\n",
              "\n",
              "    .colab-df-convert {\n",
              "      background-color: #E8F0FE;\n",
              "      border: none;\n",
              "      border-radius: 50%;\n",
              "      cursor: pointer;\n",
              "      display: none;\n",
              "      fill: #1967D2;\n",
              "      height: 32px;\n",
              "      padding: 0 0 0 0;\n",
              "      width: 32px;\n",
              "    }\n",
              "\n",
              "    .colab-df-convert:hover {\n",
              "      background-color: #E2EBFA;\n",
              "      box-shadow: 0px 1px 2px rgba(60, 64, 67, 0.3), 0px 1px 3px 1px rgba(60, 64, 67, 0.15);\n",
              "      fill: #174EA6;\n",
              "    }\n",
              "\n",
              "    [theme=dark] .colab-df-convert {\n",
              "      background-color: #3B4455;\n",
              "      fill: #D2E3FC;\n",
              "    }\n",
              "\n",
              "    [theme=dark] .colab-df-convert:hover {\n",
              "      background-color: #434B5C;\n",
              "      box-shadow: 0px 1px 3px 1px rgba(0, 0, 0, 0.15);\n",
              "      filter: drop-shadow(0px 1px 2px rgba(0, 0, 0, 0.3));\n",
              "      fill: #FFFFFF;\n",
              "    }\n",
              "  </style>\n",
              "\n",
              "      <script>\n",
              "        const buttonEl =\n",
              "          document.querySelector('#df-48b12945-6b27-4071-ae67-f592f94361d2 button.colab-df-convert');\n",
              "        buttonEl.style.display =\n",
              "          google.colab.kernel.accessAllowed ? 'block' : 'none';\n",
              "\n",
              "        async function convertToInteractive(key) {\n",
              "          const element = document.querySelector('#df-48b12945-6b27-4071-ae67-f592f94361d2');\n",
              "          const dataTable =\n",
              "            await google.colab.kernel.invokeFunction('convertToInteractive',\n",
              "                                                     [key], {});\n",
              "          if (!dataTable) return;\n",
              "\n",
              "          const docLinkHtml = 'Like what you see? Visit the ' +\n",
              "            '<a target=\"_blank\" href=https://colab.research.google.com/notebooks/data_table.ipynb>data table notebook</a>'\n",
              "            + ' to learn more about interactive tables.';\n",
              "          element.innerHTML = '';\n",
              "          dataTable['output_type'] = 'display_data';\n",
              "          await google.colab.output.renderOutput(dataTable, element);\n",
              "          const docLink = document.createElement('div');\n",
              "          docLink.innerHTML = docLinkHtml;\n",
              "          element.appendChild(docLink);\n",
              "        }\n",
              "      </script>\n",
              "    </div>\n",
              "  </div>\n",
              "  "
            ],
            "text/plain": [
              "         creditLimit  availableMoney  transactionAmount  currentBalance\n",
              "count  786363.000000   786363.000000      786363.000000   786363.000000\n",
              "mean    10759.464459     6250.725369         136.985791     4508.739089\n",
              "std     11636.174890     8880.783989         147.725569     6457.442068\n",
              "min       250.000000    -1005.630000           0.000000        0.000000\n",
              "25%      5000.000000     1077.420000          33.650000      689.910000\n",
              "50%      7500.000000     3184.860000          87.900000     2451.760000\n",
              "75%     15000.000000     7500.000000         191.480000     5291.095000\n",
              "max     50000.000000    50000.000000        2011.540000    47498.810000"
            ]
          },
          "metadata": {},
          "execution_count": 10
        }
      ]
    },
    {
      "cell_type": "markdown",
      "source": [
        "### Names of merchants"
      ],
      "metadata": {
        "id": "Df5LaFiRZOE2"
      }
    },
    {
      "cell_type": "code",
      "source": [
        "df.merchantName.unique()"
      ],
      "metadata": {
        "colab": {
          "base_uri": "https://localhost:8080/"
        },
        "id": "AmGQgnXJZOzX",
        "outputId": "bdf1563f-b8eb-4949-cd86-80215d0f2c6f"
      },
      "execution_count": null,
      "outputs": [
        {
          "output_type": "execute_result",
          "data": {
            "text/plain": [
              "array(['Uber', 'AMC #191138', 'Play Store', ..., 'ATT #141119',\n",
              "       'EZ Wireless #200746', 'Runners #747070'], dtype=object)"
            ]
          },
          "metadata": {},
          "execution_count": 11
        }
      ]
    },
    {
      "cell_type": "markdown",
      "source": [
        "### Number of merchants"
      ],
      "metadata": {
        "id": "17NeQ8PgZWUf"
      }
    },
    {
      "cell_type": "code",
      "source": [
        "df.merchantName.value_counts()"
      ],
      "metadata": {
        "colab": {
          "base_uri": "https://localhost:8080/"
        },
        "id": "zfxW3I9hZZ27",
        "outputId": "d7b72a48-49fb-49fc-9914-92694b6bbab1"
      },
      "execution_count": null,
      "outputs": [
        {
          "output_type": "execute_result",
          "data": {
            "text/plain": [
              "Uber                             25613\n",
              "Lyft                             25523\n",
              "oldnavy.com                      16992\n",
              "staples.com                      16980\n",
              "alibaba.com                      16959\n",
              "                                 ...  \n",
              "Runners #383214                      2\n",
              "Sprint Communications #561941        2\n",
              "TMobile Wireless #602341             1\n",
              "Curves #849125                       1\n",
              "EZ Wireless #149871                  1\n",
              "Name: merchantName, Length: 2490, dtype: int64"
            ]
          },
          "metadata": {},
          "execution_count": 12
        }
      ]
    },
    {
      "cell_type": "markdown",
      "source": [
        "There are 2490 merchants."
      ],
      "metadata": {
        "id": "YLC_yyM5c2VS"
      }
    },
    {
      "cell_type": "markdown",
      "source": [
        "### Countries cards were swiped at"
      ],
      "metadata": {
        "id": "JT2TOWD7Zhmy"
      }
    },
    {
      "cell_type": "code",
      "source": [
        "df.acqCountry.unique()"
      ],
      "metadata": {
        "colab": {
          "base_uri": "https://localhost:8080/"
        },
        "id": "kPETEN5QZigL",
        "outputId": "ed96b07d-ad2d-41bd-b82c-863d37f2d07c"
      },
      "execution_count": null,
      "outputs": [
        {
          "output_type": "execute_result",
          "data": {
            "text/plain": [
              "array(['US', '', 'CAN', 'MEX', 'PR'], dtype=object)"
            ]
          },
          "metadata": {},
          "execution_count": 13
        }
      ]
    },
    {
      "cell_type": "code",
      "source": [
        "df.replace('', np.nan, inplace=True)"
      ],
      "metadata": {
        "id": "1OlO8XmvZl5i"
      },
      "execution_count": null,
      "outputs": []
    },
    {
      "cell_type": "markdown",
      "source": [
        "### Names of merchants"
      ],
      "metadata": {
        "id": "f5ZdLvyzZsxM"
      }
    },
    {
      "cell_type": "code",
      "source": [
        "df.merchantCategoryCode.unique()"
      ],
      "metadata": {
        "colab": {
          "base_uri": "https://localhost:8080/"
        },
        "id": "Jt1rXtXlZv-1",
        "outputId": "76a7975a-fb61-40d7-c3a3-0b3dffec95ee"
      },
      "execution_count": null,
      "outputs": [
        {
          "output_type": "execute_result",
          "data": {
            "text/plain": [
              "array(['rideshare', 'entertainment', 'mobileapps', 'fastfood',\n",
              "       'food_delivery', 'auto', 'online_retail', 'gym', 'health',\n",
              "       'personal care', 'food', 'fuel', 'online_subscriptions',\n",
              "       'online_gifts', 'hotels', 'airline', 'furniture', 'subscriptions',\n",
              "       'cable/phone'], dtype=object)"
            ]
          },
          "metadata": {},
          "execution_count": 15
        }
      ]
    },
    {
      "cell_type": "markdown",
      "source": [
        "### Categories of merchants"
      ],
      "metadata": {
        "id": "clF9If_NdBaO"
      }
    },
    {
      "cell_type": "code",
      "source": [
        "df.merchantCategoryCode.unique()"
      ],
      "metadata": {
        "colab": {
          "base_uri": "https://localhost:8080/"
        },
        "id": "_WzXrElEZz_U",
        "outputId": "8da1fc64-8b35-4ced-b59a-12f279225c7e"
      },
      "execution_count": null,
      "outputs": [
        {
          "output_type": "execute_result",
          "data": {
            "text/plain": [
              "array(['rideshare', 'entertainment', 'mobileapps', 'fastfood',\n",
              "       'food_delivery', 'auto', 'online_retail', 'gym', 'health',\n",
              "       'personal care', 'food', 'fuel', 'online_subscriptions',\n",
              "       'online_gifts', 'hotels', 'airline', 'furniture', 'subscriptions',\n",
              "       'cable/phone'], dtype=object)"
            ]
          },
          "metadata": {},
          "execution_count": 16
        }
      ]
    },
    {
      "cell_type": "markdown",
      "source": [
        "## Question 2: Plot "
      ],
      "metadata": {
        "id": "NSi4hV8dZ5de"
      }
    },
    {
      "cell_type": "code",
      "source": [
        "plt.hist(df['transactionAmount'])\n",
        "plt.xlabel('Amount of transaction')\n",
        "plt.ylabel('Count')\n",
        "plt.show()"
      ],
      "metadata": {
        "colab": {
          "base_uri": "https://localhost:8080/",
          "height": 279
        },
        "id": "kMZzSLMraKD5",
        "outputId": "34599b71-4446-42cb-c8f0-b0923bb56536"
      },
      "execution_count": null,
      "outputs": [
        {
          "output_type": "display_data",
          "data": {
            "image/png": "[encoded data removed]",
            "text/plain": [
              "<Figure size 432x288 with 1 Axes>"
            ]
          },
          "metadata": {
            "needs_background": "light"
          }
        }
      ]
    },
    {
      "cell_type": "markdown",
      "source": [
        "We can see that most transactions are between 0 and 250. However, to see a more detailed distribution we will remove the outliers."
      ],
      "metadata": {
        "id": "4PJRZp1wbdYu"
      }
    },
    {
      "cell_type": "code",
      "source": [
        "q1, q3 = np.percentile(sorted(df.transactionAmount),[25,75])\n",
        "iqr = q3 - q1\n",
        "lower_bound = 0\n",
        "upper_bound = q3 + (1.5 * iqr)\n",
        "x = df.transactionAmount[df.transactionAmount.between(lower_bound, upper_bound)]\n",
        "plt.hist(x, color='blue', edgecolor='black')\n",
        "plt.xlabel('Amount of transaction without outliers')\n",
        "plt.ylabel('Count')\n",
        "plt.show()"
      ],
      "metadata": {
        "colab": {
          "base_uri": "https://localhost:8080/",
          "height": 279
        },
        "id": "Qf8ss-LCbgr3",
        "outputId": "e43b4e52-b4f9-4011-fe61-550ebbfa55ba"
      },
      "execution_count": null,
      "outputs": [
        {
          "output_type": "display_data",
          "data": {
            "image/png": "[encoded data removed]",
            "text/plain": [
              "<Figure size 432x288 with 1 Axes>"
            ]
          },
          "metadata": {
            "needs_background": "light"
          }
        }
      ]
    },
    {
      "cell_type": "code",
      "source": [
        "fig, ax = plt.subplots(nrows=1, ncols=1, figsize=(5,15))\n",
        "sns.boxplot(data=df, y='transactionAmount', color='#E3CF57', orient='v')\n",
        "ax.set_xlabel('Transaction Amount', fontsize=25)\n",
        "ax.set_ylabel('')\n",
        "fig.suptitle('Numerical Data Distribution', fontsize=22)\n",
        "fig.subplots_adjust(top=0.95)"
      ],
      "metadata": {
        "colab": {
          "base_uri": "https://localhost:8080/",
          "height": 989
        },
        "id": "GB0uwLrjbkKG",
        "outputId": "d578b01c-a28c-4383-c966-e35fb821401b"
      },
      "execution_count": null,
      "outputs": [
        {
          "output_type": "display_data",
          "data": {
            "image/png": "[encoded data removed]",
            "text/plain": [
              "<Figure size 360x1080 with 1 Axes>"
            ]
          },
          "metadata": {
            "needs_background": "light"
          }
        }
      ]
    },
    {
      "cell_type": "markdown",
      "source": [
        "We can see that the distribution of transaction amount is heavily right skewed. We can hypothesize that most valid transactions are between 0 and 250 and most transactions are under 100.\n",
        "\n"
      ],
      "metadata": {
        "id": "X9KMLmvCbu1H"
      }
    },
    {
      "cell_type": "markdown",
      "source": [
        "## Question 3: Data Wrangling"
      ],
      "metadata": {
        "id": "4aTS1bidbzAi"
      }
    },
    {
      "cell_type": "code",
      "source": [
        "# Converting time to standard format \n",
        "df['transactionDateTime'] = pd.to_datetime(df['transactionDateTime'], infer_datetime_format=True)\n",
        "df['currentExpDate'] = pd.to_datetime(df['currentExpDate'], infer_datetime_format=True)\n",
        "df['accountOpenDate'] = pd.to_datetime(df['accountOpenDate'], infer_datetime_format=True)\n",
        "df['dateOfLastAddressChange'] = pd.to_datetime(df['dateOfLastAddressChange'], infer_datetime_format=True)"
      ],
      "metadata": {
        "id": "DFLprwnlbz2b"
      },
      "execution_count": null,
      "outputs": []
    },
    {
      "cell_type": "markdown",
      "source": [
        "Reversed Transactions"
      ],
      "metadata": {
        "id": "FarsExIaeQdo"
      }
    },
    {
      "cell_type": "code",
      "source": [
        "duplicated = df[df.duplicated(['accountNumber', 'customerId', 'transactionAmount', 'merchantName'], keep=False)]"
      ],
      "metadata": {
        "id": "I0RGdrF0dQew"
      },
      "execution_count": null,
      "outputs": []
    },
    {
      "cell_type": "code",
      "source": [
        "duplicatePurchase = duplicated[duplicated.transactionType == 'PURCHASE']"
      ],
      "metadata": {
        "id": "Nced6FxHdWPo"
      },
      "execution_count": null,
      "outputs": []
    },
    {
      "cell_type": "code",
      "source": [
        "duplicateReversal = duplicated[duplicated.transactionType == 'REVERSAL']"
      ],
      "metadata": {
        "id": "O0PpWe4JeYym"
      },
      "execution_count": null,
      "outputs": []
    },
    {
      "cell_type": "code",
      "source": [
        "reversedTrans = pd.merge(duplicatePurchase, duplicateReversal, on=['accountNumber', 'customerId', 'transactionAmount', 'merchantName'], how='inner')"
      ],
      "metadata": {
        "id": "BjVMzvoaeb18"
      },
      "execution_count": null,
      "outputs": []
    },
    {
      "cell_type": "code",
      "source": [
        "#Records where purchasing transaction DateTime is earlier than its reversal transaction DateTime\n",
        "reversedTrans = reversedTrans[reversedTrans.transactionDateTime_x < reversedTrans.transactionDateTime_y]"
      ],
      "metadata": {
        "id": "DZCv0TRFefWA"
      },
      "execution_count": null,
      "outputs": []
    },
    {
      "cell_type": "code",
      "source": [
        "#Reversed Transactions\n",
        "reversedTrans.head()"
      ],
      "metadata": {
        "colab": {
          "base_uri": "https://localhost:8080/",
          "height": 305
        },
        "id": "qK6tjm5Lekoe",
        "outputId": "1ae8e360-d5a9-4406-ab05-8a0b4b6582d2"
      },
      "execution_count": null,
      "outputs": [
        {
          "output_type": "execute_result",
          "data": {
            "text/html": [
              "\n",
              "  <div id=\"df-04443388-bf10-4607-bff9-edcb9bca4c93\">\n",
              "    <div class=\"colab-df-container\">\n",
              "      <div>\n",
              "<style scoped>\n",
              "    .dataframe tbody tr th:only-of-type {\n",
              "        vertical-align: middle;\n",
              "    }\n",
              "\n",
              "    .dataframe tbody tr th {\n",
              "        vertical-align: top;\n",
              "    }\n",
              "\n",
              "    .dataframe thead th {\n",
              "        text-align: right;\n",
              "    }\n",
              "</style>\n",
              "<table border=\"1\" class=\"dataframe\">\n",
              "  <thead>\n",
              "    <tr style=\"text-align: right;\">\n",
              "      <th></th>\n",
              "      <th>accountNumber</th>\n",
              "      <th>customerId</th>\n",
              "      <th>creditLimit_x</th>\n",
              "      <th>availableMoney_x</th>\n",
              "      <th>transactionDateTime_x</th>\n",
              "      <th>transactionAmount</th>\n",
              "      <th>merchantName</th>\n",
              "      <th>acqCountry_x</th>\n",
              "      <th>merchantCountryCode_x</th>\n",
              "      <th>posEntryMode_x</th>\n",
              "      <th>posConditionCode_x</th>\n",
              "      <th>merchantCategoryCode_x</th>\n",
              "      <th>currentExpDate_x</th>\n",
              "      <th>accountOpenDate_x</th>\n",
              "      <th>dateOfLastAddressChange_x</th>\n",
              "      <th>cardCVV_x</th>\n",
              "      <th>enteredCVV_x</th>\n",
              "      <th>cardLast4Digits_x</th>\n",
              "      <th>transactionType_x</th>\n",
              "      <th>echoBuffer_x</th>\n",
              "      <th>currentBalance_x</th>\n",
              "      <th>merchantCity_x</th>\n",
              "      <th>merchantState_x</th>\n",
              "      <th>merchantZip_x</th>\n",
              "      <th>cardPresent_x</th>\n",
              "      <th>posOnPremises_x</th>\n",
              "      <th>recurringAuthInd_x</th>\n",
              "      <th>expirationDateKeyInMatch_x</th>\n",
              "      <th>isFraud_x</th>\n",
              "      <th>creditLimit_y</th>\n",
              "      <th>availableMoney_y</th>\n",
              "      <th>transactionDateTime_y</th>\n",
              "      <th>acqCountry_y</th>\n",
              "      <th>merchantCountryCode_y</th>\n",
              "      <th>posEntryMode_y</th>\n",
              "      <th>posConditionCode_y</th>\n",
              "      <th>merchantCategoryCode_y</th>\n",
              "      <th>currentExpDate_y</th>\n",
              "      <th>accountOpenDate_y</th>\n",
              "      <th>dateOfLastAddressChange_y</th>\n",
              "      <th>cardCVV_y</th>\n",
              "      <th>enteredCVV_y</th>\n",
              "      <th>cardLast4Digits_y</th>\n",
              "      <th>transactionType_y</th>\n",
              "      <th>echoBuffer_y</th>\n",
              "      <th>currentBalance_y</th>\n",
              "      <th>merchantCity_y</th>\n",
              "      <th>merchantState_y</th>\n",
              "      <th>merchantZip_y</th>\n",
              "      <th>cardPresent_y</th>\n",
              "      <th>posOnPremises_y</th>\n",
              "      <th>recurringAuthInd_y</th>\n",
              "      <th>expirationDateKeyInMatch_y</th>\n",
              "      <th>isFraud_y</th>\n",
              "    </tr>\n",
              "  </thead>\n",
              "  <tbody>\n",
              "    <tr>\n",
              "      <th>0</th>\n",
              "      <td>574788567</td>\n",
              "      <td>574788567</td>\n",
              "      <td>2500.0</td>\n",
              "      <td>2416.11</td>\n",
              "      <td>2016-05-24 01:35:33</td>\n",
              "      <td>215.13</td>\n",
              "      <td>Convenient Tire</td>\n",
              "      <td>US</td>\n",
              "      <td>US</td>\n",
              "      <td>09</td>\n",
              "      <td>01</td>\n",
              "      <td>auto</td>\n",
              "      <td>2021-10-01</td>\n",
              "      <td>2015-10-13</td>\n",
              "      <td>2015-10-13</td>\n",
              "      <td>206</td>\n",
              "      <td>206</td>\n",
              "      <td>8522</td>\n",
              "      <td>PURCHASE</td>\n",
              "      <td>NaN</td>\n",
              "      <td>83.89</td>\n",
              "      <td>NaN</td>\n",
              "      <td>NaN</td>\n",
              "      <td>NaN</td>\n",
              "      <td>True</td>\n",
              "      <td>NaN</td>\n",
              "      <td>NaN</td>\n",
              "      <td>False</td>\n",
              "      <td>False</td>\n",
              "      <td>2500.0</td>\n",
              "      <td>2200.98</td>\n",
              "      <td>2016-05-24 01:38:03</td>\n",
              "      <td>US</td>\n",
              "      <td>US</td>\n",
              "      <td>09</td>\n",
              "      <td>01</td>\n",
              "      <td>auto</td>\n",
              "      <td>2021-10-01</td>\n",
              "      <td>2015-10-13</td>\n",
              "      <td>2015-10-13</td>\n",
              "      <td>206</td>\n",
              "      <td>206</td>\n",
              "      <td>8522</td>\n",
              "      <td>REVERSAL</td>\n",
              "      <td>NaN</td>\n",
              "      <td>299.02</td>\n",
              "      <td>NaN</td>\n",
              "      <td>NaN</td>\n",
              "      <td>NaN</td>\n",
              "      <td>True</td>\n",
              "      <td>NaN</td>\n",
              "      <td>NaN</td>\n",
              "      <td>False</td>\n",
              "      <td>False</td>\n",
              "    </tr>\n",
              "    <tr>\n",
              "      <th>1</th>\n",
              "      <td>924729945</td>\n",
              "      <td>924729945</td>\n",
              "      <td>50000.0</td>\n",
              "      <td>50000.00</td>\n",
              "      <td>2016-10-04 04:20:04</td>\n",
              "      <td>168.57</td>\n",
              "      <td>discount.com</td>\n",
              "      <td>US</td>\n",
              "      <td>US</td>\n",
              "      <td>05</td>\n",
              "      <td>01</td>\n",
              "      <td>online_retail</td>\n",
              "      <td>2024-11-01</td>\n",
              "      <td>2014-07-25</td>\n",
              "      <td>2014-07-25</td>\n",
              "      <td>205</td>\n",
              "      <td>265</td>\n",
              "      <td>9459</td>\n",
              "      <td>PURCHASE</td>\n",
              "      <td>NaN</td>\n",
              "      <td>0.00</td>\n",
              "      <td>NaN</td>\n",
              "      <td>NaN</td>\n",
              "      <td>NaN</td>\n",
              "      <td>False</td>\n",
              "      <td>NaN</td>\n",
              "      <td>NaN</td>\n",
              "      <td>False</td>\n",
              "      <td>False</td>\n",
              "      <td>50000.0</td>\n",
              "      <td>49831.43</td>\n",
              "      <td>2016-10-19 14:01:45</td>\n",
              "      <td>US</td>\n",
              "      <td>US</td>\n",
              "      <td>05</td>\n",
              "      <td>01</td>\n",
              "      <td>online_retail</td>\n",
              "      <td>2024-11-01</td>\n",
              "      <td>2014-07-25</td>\n",
              "      <td>2014-07-25</td>\n",
              "      <td>205</td>\n",
              "      <td>265</td>\n",
              "      <td>9459</td>\n",
              "      <td>REVERSAL</td>\n",
              "      <td>NaN</td>\n",
              "      <td>168.57</td>\n",
              "      <td>NaN</td>\n",
              "      <td>NaN</td>\n",
              "      <td>NaN</td>\n",
              "      <td>False</td>\n",
              "      <td>NaN</td>\n",
              "      <td>NaN</td>\n",
              "      <td>False</td>\n",
              "      <td>False</td>\n",
              "    </tr>\n",
              "    <tr>\n",
              "      <th>2</th>\n",
              "      <td>984504651</td>\n",
              "      <td>984504651</td>\n",
              "      <td>50000.0</td>\n",
              "      <td>49138.85</td>\n",
              "      <td>2016-01-06 04:08:06</td>\n",
              "      <td>83.64</td>\n",
              "      <td>1st Sandwitch Bar #801388</td>\n",
              "      <td>US</td>\n",
              "      <td>US</td>\n",
              "      <td>09</td>\n",
              "      <td>01</td>\n",
              "      <td>food</td>\n",
              "      <td>2025-11-01</td>\n",
              "      <td>2015-07-27</td>\n",
              "      <td>2015-07-27</td>\n",
              "      <td>640</td>\n",
              "      <td>640</td>\n",
              "      <td>8332</td>\n",
              "      <td>PURCHASE</td>\n",
              "      <td>NaN</td>\n",
              "      <td>861.15</td>\n",
              "      <td>NaN</td>\n",
              "      <td>NaN</td>\n",
              "      <td>NaN</td>\n",
              "      <td>True</td>\n",
              "      <td>NaN</td>\n",
              "      <td>NaN</td>\n",
              "      <td>False</td>\n",
              "      <td>False</td>\n",
              "      <td>50000.0</td>\n",
              "      <td>38090.70</td>\n",
              "      <td>2016-02-04 00:14:42</td>\n",
              "      <td>US</td>\n",
              "      <td>US</td>\n",
              "      <td>09</td>\n",
              "      <td>01</td>\n",
              "      <td>food</td>\n",
              "      <td>2025-11-01</td>\n",
              "      <td>2015-07-27</td>\n",
              "      <td>2015-07-27</td>\n",
              "      <td>640</td>\n",
              "      <td>640</td>\n",
              "      <td>8332</td>\n",
              "      <td>REVERSAL</td>\n",
              "      <td>NaN</td>\n",
              "      <td>11909.30</td>\n",
              "      <td>NaN</td>\n",
              "      <td>NaN</td>\n",
              "      <td>NaN</td>\n",
              "      <td>True</td>\n",
              "      <td>NaN</td>\n",
              "      <td>NaN</td>\n",
              "      <td>False</td>\n",
              "      <td>False</td>\n",
              "    </tr>\n",
              "    <tr>\n",
              "      <th>3</th>\n",
              "      <td>984504651</td>\n",
              "      <td>984504651</td>\n",
              "      <td>50000.0</td>\n",
              "      <td>46818.15</td>\n",
              "      <td>2016-01-16 09:52:30</td>\n",
              "      <td>450.74</td>\n",
              "      <td>Planet Fitness #849960</td>\n",
              "      <td>US</td>\n",
              "      <td>US</td>\n",
              "      <td>05</td>\n",
              "      <td>01</td>\n",
              "      <td>health</td>\n",
              "      <td>2028-08-01</td>\n",
              "      <td>2015-07-27</td>\n",
              "      <td>2015-07-27</td>\n",
              "      <td>640</td>\n",
              "      <td>640</td>\n",
              "      <td>8332</td>\n",
              "      <td>PURCHASE</td>\n",
              "      <td>NaN</td>\n",
              "      <td>3181.85</td>\n",
              "      <td>NaN</td>\n",
              "      <td>NaN</td>\n",
              "      <td>NaN</td>\n",
              "      <td>False</td>\n",
              "      <td>NaN</td>\n",
              "      <td>NaN</td>\n",
              "      <td>False</td>\n",
              "      <td>False</td>\n",
              "      <td>50000.0</td>\n",
              "      <td>46367.41</td>\n",
              "      <td>2016-01-16 09:53:15</td>\n",
              "      <td>US</td>\n",
              "      <td>US</td>\n",
              "      <td>05</td>\n",
              "      <td>01</td>\n",
              "      <td>health</td>\n",
              "      <td>2028-08-01</td>\n",
              "      <td>2015-07-27</td>\n",
              "      <td>2015-07-27</td>\n",
              "      <td>640</td>\n",
              "      <td>640</td>\n",
              "      <td>8332</td>\n",
              "      <td>REVERSAL</td>\n",
              "      <td>NaN</td>\n",
              "      <td>3632.59</td>\n",
              "      <td>NaN</td>\n",
              "      <td>NaN</td>\n",
              "      <td>NaN</td>\n",
              "      <td>False</td>\n",
              "      <td>NaN</td>\n",
              "      <td>NaN</td>\n",
              "      <td>False</td>\n",
              "      <td>False</td>\n",
              "    </tr>\n",
              "    <tr>\n",
              "      <th>4</th>\n",
              "      <td>984504651</td>\n",
              "      <td>984504651</td>\n",
              "      <td>50000.0</td>\n",
              "      <td>46341.05</td>\n",
              "      <td>2016-01-17 08:13:08</td>\n",
              "      <td>81.73</td>\n",
              "      <td>AMC #724446</td>\n",
              "      <td>US</td>\n",
              "      <td>US</td>\n",
              "      <td>09</td>\n",
              "      <td>01</td>\n",
              "      <td>entertainment</td>\n",
              "      <td>2031-12-01</td>\n",
              "      <td>2015-07-27</td>\n",
              "      <td>2015-07-27</td>\n",
              "      <td>640</td>\n",
              "      <td>640</td>\n",
              "      <td>8332</td>\n",
              "      <td>PURCHASE</td>\n",
              "      <td>NaN</td>\n",
              "      <td>3658.95</td>\n",
              "      <td>NaN</td>\n",
              "      <td>NaN</td>\n",
              "      <td>NaN</td>\n",
              "      <td>True</td>\n",
              "      <td>NaN</td>\n",
              "      <td>NaN</td>\n",
              "      <td>False</td>\n",
              "      <td>False</td>\n",
              "      <td>50000.0</td>\n",
              "      <td>41909.30</td>\n",
              "      <td>2016-01-25 20:39:15</td>\n",
              "      <td>US</td>\n",
              "      <td>US</td>\n",
              "      <td>09</td>\n",
              "      <td>01</td>\n",
              "      <td>entertainment</td>\n",
              "      <td>2031-12-01</td>\n",
              "      <td>2015-07-27</td>\n",
              "      <td>2015-07-27</td>\n",
              "      <td>640</td>\n",
              "      <td>640</td>\n",
              "      <td>8332</td>\n",
              "      <td>REVERSAL</td>\n",
              "      <td>NaN</td>\n",
              "      <td>8090.70</td>\n",
              "      <td>NaN</td>\n",
              "      <td>NaN</td>\n",
              "      <td>NaN</td>\n",
              "      <td>True</td>\n",
              "      <td>NaN</td>\n",
              "      <td>NaN</td>\n",
              "      <td>False</td>\n",
              "      <td>False</td>\n",
              "    </tr>\n",
              "  </tbody>\n",
              "</table>\n",
              "</div>\n",
              "      <button class=\"colab-df-convert\" onclick=\"convertToInteractive('df-04443388-bf10-4607-bff9-edcb9bca4c93')\"\n",
              "              title=\"Convert this dataframe to an interactive table.\"\n",
              "              style=\"display:none;\">\n",
              "        \n",
              "  <svg xmlns=\"http://www.w3.org/2000/svg\" height=\"24px\"viewBox=\"0 0 24 24\"\n",
              "       width=\"24px\">\n",
              "    <path d=\"M0 0h24v24H0V0z\" fill=\"none\"/>\n",
              "    <path d=\"M18.56 5.44l.94 2.06.94-2.06 2.06-.94-2.06-.94-.94-2.06-.94 2.06-2.06.94zm-11 1L8.5 8.5l.94-2.06 2.06-.94-2.06-.94L8.5 2.5l-.94 2.06-2.06.94zm10 10l.94 2.06.94-2.06 2.06-.94-2.06-.94-.94-2.06-.94 2.06-2.06.94z\"/><path d=\"M17.41 7.96l-1.37-1.37c-.4-.4-.92-.59-1.43-.59-.52 0-1.04.2-1.43.59L10.3 9.45l-7.72 7.72c-.78.78-.78 2.05 0 2.83L4 21.41c.39.39.9.59 1.41.59.51 0 1.02-.2 1.41-.59l7.78-7.78 2.81-2.81c.8-.78.8-2.07 0-2.86zM5.41 20L4 18.59l7.72-7.72 1.47 1.35L5.41 20z\"/>\n",
              "  </svg>\n",
              "      </button>\n",
              "      \n",
              "  <style>\n",
              "    .colab-df-container {\n",
              "      display:flex;\n",
              "      flex-wrap:wrap;\n",
              "      gap: 12px;\n",
              "    }\n",
              "\n",
              "    .colab-df-convert {\n",
              "      background-color: #E8F0FE;\n",
              "      border: none;\n",
              "      border-radius: 50%;\n",
              "      cursor: pointer;\n",
              "      display: none;\n",
              "      fill: #1967D2;\n",
              "      height: 32px;\n",
              "      padding: 0 0 0 0;\n",
              "      width: 32px;\n",
              "    }\n",
              "\n",
              "    .colab-df-convert:hover {\n",
              "      background-color: #E2EBFA;\n",
              "      box-shadow: 0px 1px 2px rgba(60, 64, 67, 0.3), 0px 1px 3px 1px rgba(60, 64, 67, 0.15);\n",
              "      fill: #174EA6;\n",
              "    }\n",
              "\n",
              "    [theme=dark] .colab-df-convert {\n",
              "      background-color: #3B4455;\n",
              "      fill: #D2E3FC;\n",
              "    }\n",
              "\n",
              "    [theme=dark] .colab-df-convert:hover {\n",
              "      background-color: #434B5C;\n",
              "      box-shadow: 0px 1px 3px 1px rgba(0, 0, 0, 0.15);\n",
              "      filter: drop-shadow(0px 1px 2px rgba(0, 0, 0, 0.3));\n",
              "      fill: #FFFFFF;\n",
              "    }\n",
              "  </style>\n",
              "\n",
              "      <script>\n",
              "        const buttonEl =\n",
              "          document.querySelector('#df-04443388-bf10-4607-bff9-edcb9bca4c93 button.colab-df-convert');\n",
              "        buttonEl.style.display =\n",
              "          google.colab.kernel.accessAllowed ? 'block' : 'none';\n",
              "\n",
              "        async function convertToInteractive(key) {\n",
              "          const element = document.querySelector('#df-04443388-bf10-4607-bff9-edcb9bca4c93');\n",
              "          const dataTable =\n",
              "            await google.colab.kernel.invokeFunction('convertToInteractive',\n",
              "                                                     [key], {});\n",
              "          if (!dataTable) return;\n",
              "\n",
              "          const docLinkHtml = 'Like what you see? Visit the ' +\n",
              "            '<a target=\"_blank\" href=https://colab.research.google.com/notebooks/data_table.ipynb>data table notebook</a>'\n",
              "            + ' to learn more about interactive tables.';\n",
              "          element.innerHTML = '';\n",
              "          dataTable['output_type'] = 'display_data';\n",
              "          await google.colab.output.renderOutput(dataTable, element);\n",
              "          const docLink = document.createElement('div');\n",
              "          docLink.innerHTML = docLinkHtml;\n",
              "          element.appendChild(docLink);\n",
              "        }\n",
              "      </script>\n",
              "    </div>\n",
              "  </div>\n",
              "  "
            ],
            "text/plain": [
              "  accountNumber customerId  ...  expirationDateKeyInMatch_y  isFraud_y\n",
              "0     574788567  574788567  ...                       False      False\n",
              "1     924729945  924729945  ...                       False      False\n",
              "2     984504651  984504651  ...                       False      False\n",
              "3     984504651  984504651  ...                       False      False\n",
              "4     984504651  984504651  ...                       False      False\n",
              "\n",
              "[5 rows x 54 columns]"
            ]
          },
          "metadata": {},
          "execution_count": 26
        }
      ]
    },
    {
      "cell_type": "code",
      "source": [
        "duplicatePurchase.sort_values(['accountNumber', 'customerId', 'merchantName', 'transactionDateTime'])"
      ],
      "metadata": {
        "colab": {
          "base_uri": "https://localhost:8080/",
          "height": 488
        },
        "id": "tTFy7RTOenu0",
        "outputId": "d40a4378-6b46-46a1-94fa-e8965ed1f1a8"
      },
      "execution_count": null,
      "outputs": [
        {
          "output_type": "execute_result",
          "data": {
            "text/html": [
              "\n",
              "  <div id=\"df-1e21d035-518d-46de-8b14-7867adabf9b3\">\n",
              "    <div class=\"colab-df-container\">\n",
              "      <div>\n",
              "<style scoped>\n",
              "    .dataframe tbody tr th:only-of-type {\n",
              "        vertical-align: middle;\n",
              "    }\n",
              "\n",
              "    .dataframe tbody tr th {\n",
              "        vertical-align: top;\n",
              "    }\n",
              "\n",
              "    .dataframe thead th {\n",
              "        text-align: right;\n",
              "    }\n",
              "</style>\n",
              "<table border=\"1\" class=\"dataframe\">\n",
              "  <thead>\n",
              "    <tr style=\"text-align: right;\">\n",
              "      <th></th>\n",
              "      <th>accountNumber</th>\n",
              "      <th>customerId</th>\n",
              "      <th>creditLimit</th>\n",
              "      <th>availableMoney</th>\n",
              "      <th>transactionDateTime</th>\n",
              "      <th>transactionAmount</th>\n",
              "      <th>merchantName</th>\n",
              "      <th>acqCountry</th>\n",
              "      <th>merchantCountryCode</th>\n",
              "      <th>posEntryMode</th>\n",
              "      <th>posConditionCode</th>\n",
              "      <th>merchantCategoryCode</th>\n",
              "      <th>currentExpDate</th>\n",
              "      <th>accountOpenDate</th>\n",
              "      <th>dateOfLastAddressChange</th>\n",
              "      <th>cardCVV</th>\n",
              "      <th>enteredCVV</th>\n",
              "      <th>cardLast4Digits</th>\n",
              "      <th>transactionType</th>\n",
              "      <th>echoBuffer</th>\n",
              "      <th>currentBalance</th>\n",
              "      <th>merchantCity</th>\n",
              "      <th>merchantState</th>\n",
              "      <th>merchantZip</th>\n",
              "      <th>cardPresent</th>\n",
              "      <th>posOnPremises</th>\n",
              "      <th>recurringAuthInd</th>\n",
              "      <th>expirationDateKeyInMatch</th>\n",
              "      <th>isFraud</th>\n",
              "    </tr>\n",
              "  </thead>\n",
              "  <tbody>\n",
              "    <tr>\n",
              "      <th>541963</th>\n",
              "      <td>100088067</td>\n",
              "      <td>100088067</td>\n",
              "      <td>50000.0</td>\n",
              "      <td>49834.20</td>\n",
              "      <td>2016-11-20 07:57:05</td>\n",
              "      <td>22.32</td>\n",
              "      <td>AMC #79863</td>\n",
              "      <td>US</td>\n",
              "      <td>US</td>\n",
              "      <td>09</td>\n",
              "      <td>01</td>\n",
              "      <td>entertainment</td>\n",
              "      <td>2020-06-01</td>\n",
              "      <td>2014-01-09</td>\n",
              "      <td>2014-01-09</td>\n",
              "      <td>546</td>\n",
              "      <td>546</td>\n",
              "      <td>4615</td>\n",
              "      <td>PURCHASE</td>\n",
              "      <td>NaN</td>\n",
              "      <td>165.80</td>\n",
              "      <td>NaN</td>\n",
              "      <td>NaN</td>\n",
              "      <td>NaN</td>\n",
              "      <td>True</td>\n",
              "      <td>NaN</td>\n",
              "      <td>NaN</td>\n",
              "      <td>False</td>\n",
              "      <td>False</td>\n",
              "    </tr>\n",
              "    <tr>\n",
              "      <th>541919</th>\n",
              "      <td>100088067</td>\n",
              "      <td>100088067</td>\n",
              "      <td>50000.0</td>\n",
              "      <td>50000.00</td>\n",
              "      <td>2016-05-05 22:47:50</td>\n",
              "      <td>3.96</td>\n",
              "      <td>Apple iTunes</td>\n",
              "      <td>US</td>\n",
              "      <td>US</td>\n",
              "      <td>09</td>\n",
              "      <td>01</td>\n",
              "      <td>mobileapps</td>\n",
              "      <td>2033-07-01</td>\n",
              "      <td>2014-01-09</td>\n",
              "      <td>2014-01-09</td>\n",
              "      <td>546</td>\n",
              "      <td>546</td>\n",
              "      <td>4615</td>\n",
              "      <td>PURCHASE</td>\n",
              "      <td>NaN</td>\n",
              "      <td>0.00</td>\n",
              "      <td>NaN</td>\n",
              "      <td>NaN</td>\n",
              "      <td>NaN</td>\n",
              "      <td>False</td>\n",
              "      <td>NaN</td>\n",
              "      <td>NaN</td>\n",
              "      <td>False</td>\n",
              "      <td>False</td>\n",
              "    </tr>\n",
              "    <tr>\n",
              "      <th>541926</th>\n",
              "      <td>100088067</td>\n",
              "      <td>100088067</td>\n",
              "      <td>50000.0</td>\n",
              "      <td>49695.85</td>\n",
              "      <td>2016-06-05 22:10:41</td>\n",
              "      <td>3.96</td>\n",
              "      <td>Apple iTunes</td>\n",
              "      <td>US</td>\n",
              "      <td>US</td>\n",
              "      <td>09</td>\n",
              "      <td>01</td>\n",
              "      <td>mobileapps</td>\n",
              "      <td>2033-07-01</td>\n",
              "      <td>2014-01-09</td>\n",
              "      <td>2014-01-09</td>\n",
              "      <td>546</td>\n",
              "      <td>546</td>\n",
              "      <td>4615</td>\n",
              "      <td>PURCHASE</td>\n",
              "      <td>NaN</td>\n",
              "      <td>304.15</td>\n",
              "      <td>NaN</td>\n",
              "      <td>NaN</td>\n",
              "      <td>NaN</td>\n",
              "      <td>False</td>\n",
              "      <td>NaN</td>\n",
              "      <td>NaN</td>\n",
              "      <td>False</td>\n",
              "      <td>False</td>\n",
              "    </tr>\n",
              "    <tr>\n",
              "      <th>541929</th>\n",
              "      <td>100088067</td>\n",
              "      <td>100088067</td>\n",
              "      <td>50000.0</td>\n",
              "      <td>50000.00</td>\n",
              "      <td>2016-07-05 22:22:49</td>\n",
              "      <td>3.96</td>\n",
              "      <td>Apple iTunes</td>\n",
              "      <td>US</td>\n",
              "      <td>US</td>\n",
              "      <td>09</td>\n",
              "      <td>01</td>\n",
              "      <td>mobileapps</td>\n",
              "      <td>2033-07-01</td>\n",
              "      <td>2014-01-09</td>\n",
              "      <td>2014-01-09</td>\n",
              "      <td>546</td>\n",
              "      <td>546</td>\n",
              "      <td>4615</td>\n",
              "      <td>PURCHASE</td>\n",
              "      <td>NaN</td>\n",
              "      <td>0.00</td>\n",
              "      <td>NaN</td>\n",
              "      <td>NaN</td>\n",
              "      <td>NaN</td>\n",
              "      <td>False</td>\n",
              "      <td>NaN</td>\n",
              "      <td>NaN</td>\n",
              "      <td>False</td>\n",
              "      <td>False</td>\n",
              "    </tr>\n",
              "    <tr>\n",
              "      <th>541936</th>\n",
              "      <td>100088067</td>\n",
              "      <td>100088067</td>\n",
              "      <td>50000.0</td>\n",
              "      <td>50000.00</td>\n",
              "      <td>2016-08-05 00:55:48</td>\n",
              "      <td>3.96</td>\n",
              "      <td>Apple iTunes</td>\n",
              "      <td>US</td>\n",
              "      <td>US</td>\n",
              "      <td>09</td>\n",
              "      <td>01</td>\n",
              "      <td>mobileapps</td>\n",
              "      <td>2033-07-01</td>\n",
              "      <td>2014-01-09</td>\n",
              "      <td>2014-01-09</td>\n",
              "      <td>546</td>\n",
              "      <td>546</td>\n",
              "      <td>4615</td>\n",
              "      <td>PURCHASE</td>\n",
              "      <td>NaN</td>\n",
              "      <td>0.00</td>\n",
              "      <td>NaN</td>\n",
              "      <td>NaN</td>\n",
              "      <td>NaN</td>\n",
              "      <td>False</td>\n",
              "      <td>NaN</td>\n",
              "      <td>NaN</td>\n",
              "      <td>False</td>\n",
              "      <td>False</td>\n",
              "    </tr>\n",
              "    <tr>\n",
              "      <th>...</th>\n",
              "      <td>...</td>\n",
              "      <td>...</td>\n",
              "      <td>...</td>\n",
              "      <td>...</td>\n",
              "      <td>...</td>\n",
              "      <td>...</td>\n",
              "      <td>...</td>\n",
              "      <td>...</td>\n",
              "      <td>...</td>\n",
              "      <td>...</td>\n",
              "      <td>...</td>\n",
              "      <td>...</td>\n",
              "      <td>...</td>\n",
              "      <td>...</td>\n",
              "      <td>...</td>\n",
              "      <td>...</td>\n",
              "      <td>...</td>\n",
              "      <td>...</td>\n",
              "      <td>...</td>\n",
              "      <td>...</td>\n",
              "      <td>...</td>\n",
              "      <td>...</td>\n",
              "      <td>...</td>\n",
              "      <td>...</td>\n",
              "      <td>...</td>\n",
              "      <td>...</td>\n",
              "      <td>...</td>\n",
              "      <td>...</td>\n",
              "      <td>...</td>\n",
              "    </tr>\n",
              "    <tr>\n",
              "      <th>108110</th>\n",
              "      <td>999389635</td>\n",
              "      <td>999389635</td>\n",
              "      <td>5000.0</td>\n",
              "      <td>4900.94</td>\n",
              "      <td>2016-08-22 11:42:48</td>\n",
              "      <td>4.62</td>\n",
              "      <td>Play Store</td>\n",
              "      <td>US</td>\n",
              "      <td>US</td>\n",
              "      <td>05</td>\n",
              "      <td>01</td>\n",
              "      <td>mobileapps</td>\n",
              "      <td>2033-04-01</td>\n",
              "      <td>2015-10-09</td>\n",
              "      <td>2015-10-09</td>\n",
              "      <td>140</td>\n",
              "      <td>140</td>\n",
              "      <td>3991</td>\n",
              "      <td>PURCHASE</td>\n",
              "      <td>NaN</td>\n",
              "      <td>99.06</td>\n",
              "      <td>NaN</td>\n",
              "      <td>NaN</td>\n",
              "      <td>NaN</td>\n",
              "      <td>False</td>\n",
              "      <td>NaN</td>\n",
              "      <td>NaN</td>\n",
              "      <td>False</td>\n",
              "      <td>False</td>\n",
              "    </tr>\n",
              "    <tr>\n",
              "      <th>108112</th>\n",
              "      <td>999389635</td>\n",
              "      <td>999389635</td>\n",
              "      <td>5000.0</td>\n",
              "      <td>4653.70</td>\n",
              "      <td>2016-09-22 13:58:30</td>\n",
              "      <td>4.62</td>\n",
              "      <td>Play Store</td>\n",
              "      <td>US</td>\n",
              "      <td>US</td>\n",
              "      <td>05</td>\n",
              "      <td>01</td>\n",
              "      <td>mobileapps</td>\n",
              "      <td>2033-04-01</td>\n",
              "      <td>2015-10-09</td>\n",
              "      <td>2015-10-09</td>\n",
              "      <td>140</td>\n",
              "      <td>140</td>\n",
              "      <td>3991</td>\n",
              "      <td>PURCHASE</td>\n",
              "      <td>NaN</td>\n",
              "      <td>346.30</td>\n",
              "      <td>NaN</td>\n",
              "      <td>NaN</td>\n",
              "      <td>NaN</td>\n",
              "      <td>False</td>\n",
              "      <td>NaN</td>\n",
              "      <td>NaN</td>\n",
              "      <td>False</td>\n",
              "      <td>False</td>\n",
              "    </tr>\n",
              "    <tr>\n",
              "      <th>108113</th>\n",
              "      <td>999389635</td>\n",
              "      <td>999389635</td>\n",
              "      <td>5000.0</td>\n",
              "      <td>4674.08</td>\n",
              "      <td>2016-10-23 16:47:41</td>\n",
              "      <td>4.62</td>\n",
              "      <td>Play Store</td>\n",
              "      <td>US</td>\n",
              "      <td>US</td>\n",
              "      <td>05</td>\n",
              "      <td>01</td>\n",
              "      <td>mobileapps</td>\n",
              "      <td>2033-04-01</td>\n",
              "      <td>2015-10-09</td>\n",
              "      <td>2015-10-09</td>\n",
              "      <td>140</td>\n",
              "      <td>140</td>\n",
              "      <td>3991</td>\n",
              "      <td>PURCHASE</td>\n",
              "      <td>NaN</td>\n",
              "      <td>325.92</td>\n",
              "      <td>NaN</td>\n",
              "      <td>NaN</td>\n",
              "      <td>NaN</td>\n",
              "      <td>False</td>\n",
              "      <td>NaN</td>\n",
              "      <td>NaN</td>\n",
              "      <td>False</td>\n",
              "      <td>False</td>\n",
              "    </tr>\n",
              "    <tr>\n",
              "      <th>108114</th>\n",
              "      <td>999389635</td>\n",
              "      <td>999389635</td>\n",
              "      <td>5000.0</td>\n",
              "      <td>4694.46</td>\n",
              "      <td>2016-11-24 00:21:46</td>\n",
              "      <td>4.62</td>\n",
              "      <td>Play Store</td>\n",
              "      <td>US</td>\n",
              "      <td>US</td>\n",
              "      <td>05</td>\n",
              "      <td>01</td>\n",
              "      <td>mobileapps</td>\n",
              "      <td>2033-04-01</td>\n",
              "      <td>2015-10-09</td>\n",
              "      <td>2015-10-09</td>\n",
              "      <td>140</td>\n",
              "      <td>140</td>\n",
              "      <td>3991</td>\n",
              "      <td>PURCHASE</td>\n",
              "      <td>NaN</td>\n",
              "      <td>305.54</td>\n",
              "      <td>NaN</td>\n",
              "      <td>NaN</td>\n",
              "      <td>NaN</td>\n",
              "      <td>False</td>\n",
              "      <td>NaN</td>\n",
              "      <td>NaN</td>\n",
              "      <td>False</td>\n",
              "      <td>False</td>\n",
              "    </tr>\n",
              "    <tr>\n",
              "      <th>108115</th>\n",
              "      <td>999389635</td>\n",
              "      <td>999389635</td>\n",
              "      <td>5000.0</td>\n",
              "      <td>4714.84</td>\n",
              "      <td>2016-12-24 05:19:30</td>\n",
              "      <td>4.62</td>\n",
              "      <td>Play Store</td>\n",
              "      <td>US</td>\n",
              "      <td>US</td>\n",
              "      <td>05</td>\n",
              "      <td>01</td>\n",
              "      <td>mobileapps</td>\n",
              "      <td>2033-04-01</td>\n",
              "      <td>2015-10-09</td>\n",
              "      <td>2015-10-09</td>\n",
              "      <td>140</td>\n",
              "      <td>140</td>\n",
              "      <td>3991</td>\n",
              "      <td>PURCHASE</td>\n",
              "      <td>NaN</td>\n",
              "      <td>285.16</td>\n",
              "      <td>NaN</td>\n",
              "      <td>NaN</td>\n",
              "      <td>NaN</td>\n",
              "      <td>False</td>\n",
              "      <td>NaN</td>\n",
              "      <td>NaN</td>\n",
              "      <td>False</td>\n",
              "      <td>False</td>\n",
              "    </tr>\n",
              "  </tbody>\n",
              "</table>\n",
              "<p>83252 rows × 29 columns</p>\n",
              "</div>\n",
              "      <button class=\"colab-df-convert\" onclick=\"convertToInteractive('df-1e21d035-518d-46de-8b14-7867adabf9b3')\"\n",
              "              title=\"Convert this dataframe to an interactive table.\"\n",
              "              style=\"display:none;\">\n",
              "        \n",
              "  <svg xmlns=\"http://www.w3.org/2000/svg\" height=\"24px\"viewBox=\"0 0 24 24\"\n",
              "       width=\"24px\">\n",
              "    <path d=\"M0 0h24v24H0V0z\" fill=\"none\"/>\n",
              "    <path d=\"M18.56 5.44l.94 2.06.94-2.06 2.06-.94-2.06-.94-.94-2.06-.94 2.06-2.06.94zm-11 1L8.5 8.5l.94-2.06 2.06-.94-2.06-.94L8.5 2.5l-.94 2.06-2.06.94zm10 10l.94 2.06.94-2.06 2.06-.94-2.06-.94-.94-2.06-.94 2.06-2.06.94z\"/><path d=\"M17.41 7.96l-1.37-1.37c-.4-.4-.92-.59-1.43-.59-.52 0-1.04.2-1.43.59L10.3 9.45l-7.72 7.72c-.78.78-.78 2.05 0 2.83L4 21.41c.39.39.9.59 1.41.59.51 0 1.02-.2 1.41-.59l7.78-7.78 2.81-2.81c.8-.78.8-2.07 0-2.86zM5.41 20L4 18.59l7.72-7.72 1.47 1.35L5.41 20z\"/>\n",
              "  </svg>\n",
              "      </button>\n",
              "      \n",
              "  <style>\n",
              "    .colab-df-container {\n",
              "      display:flex;\n",
              "      flex-wrap:wrap;\n",
              "      gap: 12px;\n",
              "    }\n",
              "\n",
              "    .colab-df-convert {\n",
              "      background-color: #E8F0FE;\n",
              "      border: none;\n",
              "      border-radius: 50%;\n",
              "      cursor: pointer;\n",
              "      display: none;\n",
              "      fill: #1967D2;\n",
              "      height: 32px;\n",
              "      padding: 0 0 0 0;\n",
              "      width: 32px;\n",
              "    }\n",
              "\n",
              "    .colab-df-convert:hover {\n",
              "      background-color: #E2EBFA;\n",
              "      box-shadow: 0px 1px 2px rgba(60, 64, 67, 0.3), 0px 1px 3px 1px rgba(60, 64, 67, 0.15);\n",
              "      fill: #174EA6;\n",
              "    }\n",
              "\n",
              "    [theme=dark] .colab-df-convert {\n",
              "      background-color: #3B4455;\n",
              "      fill: #D2E3FC;\n",
              "    }\n",
              "\n",
              "    [theme=dark] .colab-df-convert:hover {\n",
              "      background-color: #434B5C;\n",
              "      box-shadow: 0px 1px 3px 1px rgba(0, 0, 0, 0.15);\n",
              "      filter: drop-shadow(0px 1px 2px rgba(0, 0, 0, 0.3));\n",
              "      fill: #FFFFFF;\n",
              "    }\n",
              "  </style>\n",
              "\n",
              "      <script>\n",
              "        const buttonEl =\n",
              "          document.querySelector('#df-1e21d035-518d-46de-8b14-7867adabf9b3 button.colab-df-convert');\n",
              "        buttonEl.style.display =\n",
              "          google.colab.kernel.accessAllowed ? 'block' : 'none';\n",
              "\n",
              "        async function convertToInteractive(key) {\n",
              "          const element = document.querySelector('#df-1e21d035-518d-46de-8b14-7867adabf9b3');\n",
              "          const dataTable =\n",
              "            await google.colab.kernel.invokeFunction('convertToInteractive',\n",
              "                                                     [key], {});\n",
              "          if (!dataTable) return;\n",
              "\n",
              "          const docLinkHtml = 'Like what you see? Visit the ' +\n",
              "            '<a target=\"_blank\" href=https://colab.research.google.com/notebooks/data_table.ipynb>data table notebook</a>'\n",
              "            + ' to learn more about interactive tables.';\n",
              "          element.innerHTML = '';\n",
              "          dataTable['output_type'] = 'display_data';\n",
              "          await google.colab.output.renderOutput(dataTable, element);\n",
              "          const docLink = document.createElement('div');\n",
              "          docLink.innerHTML = docLinkHtml;\n",
              "          element.appendChild(docLink);\n",
              "        }\n",
              "      </script>\n",
              "    </div>\n",
              "  </div>\n",
              "  "
            ],
            "text/plain": [
              "       accountNumber customerId  ...  expirationDateKeyInMatch  isFraud\n",
              "541963     100088067  100088067  ...                     False    False\n",
              "541919     100088067  100088067  ...                     False    False\n",
              "541926     100088067  100088067  ...                     False    False\n",
              "541929     100088067  100088067  ...                     False    False\n",
              "541936     100088067  100088067  ...                     False    False\n",
              "...              ...        ...  ...                       ...      ...\n",
              "108110     999389635  999389635  ...                     False    False\n",
              "108112     999389635  999389635  ...                     False    False\n",
              "108113     999389635  999389635  ...                     False    False\n",
              "108114     999389635  999389635  ...                     False    False\n",
              "108115     999389635  999389635  ...                     False    False\n",
              "\n",
              "[83252 rows x 29 columns]"
            ]
          },
          "metadata": {},
          "execution_count": 27
        }
      ]
    },
    {
      "cell_type": "code",
      "source": [
        "def span(df):\n",
        "    df['time_span'] = df[ transactionDateTime ].diff(1).dt.total_seconds() / 3600\n",
        "    return df"
      ],
      "metadata": {
        "id": "hh7P03MNewk1"
      },
      "execution_count": null,
      "outputs": []
    },
    {
      "cell_type": "code",
      "source": [
        "multipurchase = duplicatePurchase.groupby(['accountNumber', 'customerId', 'merchantName', 'transactionAmount']).apply(span)"
      ],
      "metadata": {
        "id": "fnbQivWhe1eO"
      },
      "execution_count": null,
      "outputs": []
    },
    {
      "cell_type": "code",
      "source": [
        "#Records with transaction time span less than an hour\n",
        "multi_swipe = multipurchase[multipurchase.time_span < 1]"
      ],
      "metadata": {
        "id": "Bf4IuTOge5XZ"
      },
      "execution_count": null,
      "outputs": []
    },
    {
      "cell_type": "markdown",
      "source": [
        "Total number of transactions and total dollar amount estimated for the reversed transactions and the multi-swipe transactions"
      ],
      "metadata": {
        "id": "wKZw9jtofN8G"
      }
    },
    {
      "cell_type": "code",
      "source": [
        "print(f The total number of transactions for reversed transactions is {reversedTrans.shape[0]}. )\n",
        "print(f The total dollar estimated  for reversed transactions is {reversedTrans.transactionAmount.sum()}. )\n",
        "print(f The total number of multi-swipe transactions is {multi_swipe.shape[0]}. )\n",
        "print(f The total dollar estimated  for reversed transactions is {multi_swipe.transactionAmount.sum()} )"
      ],
      "metadata": {
        "colab": {
          "base_uri": "https://localhost:8080/"
        },
        "id": "UQS_bhgIfJG8",
        "outputId": "2c391e26-5948-424a-926a-22222bbc30b7"
      },
      "execution_count": null,
      "outputs": [
        {
          "output_type": "stream",
          "name": "stdout",
          "text": [
            "The total number of transactions for reversed transactions is 17999.\n",
            "The total dollar estimated  for reversed transactions is 2701311.87.\n",
            "The total number of multi-swipe transactions is 7450.\n",
            "The total dollar estimated  for reversed transactions is 1103132.25\n"
          ]
        }
      ]
    },
    {
      "cell_type": "markdown",
      "source": [
        "### Analysis of transactions"
      ],
      "metadata": {
        "id": "cIpdFjFXfbex"
      }
    },
    {
      "cell_type": "markdown",
      "source": [
        "We want to observe if there is any pattern between the type of merchant and the probability of having duplicate transactions."
      ],
      "metadata": {
        "id": "oa-MKC6Iffqb"
      }
    },
    {
      "cell_type": "code",
      "source": [
        "all_pro = df.merchantCategoryCode.value_counts(normalize=True).rename_axis('MerchantCategory').to_frame('overall_proportion')\n",
        "rev_pro = reversedTrans.merchantCategoryCode_x.value_counts(normalize=True).rename_axis('MerchantCategory').to_frame('reversed_proportion')\n",
        "mul_pro = multi_swipe.merchantCategoryCode.value_counts(normalize=True).rename_axis('MerchantCategory').to_frame('multi_proportion')"
      ],
      "metadata": {
        "id": "nbL7_BImfWoD"
      },
      "execution_count": null,
      "outputs": []
    },
    {
      "cell_type": "code",
      "source": [
        "mer_pro = all_pro.merge(rev_pro, how='left', on=['MerchantCategory']).merge(mul_pro, how='left', on=['MerchantCategory'])\n",
        "mer_pro"
      ],
      "metadata": {
        "colab": {
          "base_uri": "https://localhost:8080/",
          "height": 677
        },
        "id": "pXdo9eASfo0Q",
        "outputId": "193d84b1-b428-4973-910f-55c82397ce13"
      },
      "execution_count": null,
      "outputs": [
        {
          "output_type": "execute_result",
          "data": {
            "text/html": [
              "\n",
              "  <div id=\"df-7af14cd4-e306-499f-9354-63d24854906f\">\n",
              "    <div class=\"colab-df-container\">\n",
              "      <div>\n",
              "<style scoped>\n",
              "    .dataframe tbody tr th:only-of-type {\n",
              "        vertical-align: middle;\n",
              "    }\n",
              "\n",
              "    .dataframe tbody tr th {\n",
              "        vertical-align: top;\n",
              "    }\n",
              "\n",
              "    .dataframe thead th {\n",
              "        text-align: right;\n",
              "    }\n",
              "</style>\n",
              "<table border=\"1\" class=\"dataframe\">\n",
              "  <thead>\n",
              "    <tr style=\"text-align: right;\">\n",
              "      <th></th>\n",
              "      <th>overall_proportion</th>\n",
              "      <th>reversed_proportion</th>\n",
              "      <th>multi_proportion</th>\n",
              "    </tr>\n",
              "    <tr>\n",
              "      <th>MerchantCategory</th>\n",
              "      <th></th>\n",
              "      <th></th>\n",
              "      <th></th>\n",
              "    </tr>\n",
              "  </thead>\n",
              "  <tbody>\n",
              "    <tr>\n",
              "      <th>online_retail</th>\n",
              "      <td>0.257077</td>\n",
              "      <td>0.275460</td>\n",
              "      <td>0.275705</td>\n",
              "    </tr>\n",
              "    <tr>\n",
              "      <th>fastfood</th>\n",
              "      <td>0.142603</td>\n",
              "      <td>0.155620</td>\n",
              "      <td>0.160000</td>\n",
              "    </tr>\n",
              "    <tr>\n",
              "      <th>entertainment</th>\n",
              "      <td>0.101859</td>\n",
              "      <td>0.108950</td>\n",
              "      <td>0.115302</td>\n",
              "    </tr>\n",
              "    <tr>\n",
              "      <th>food</th>\n",
              "      <td>0.095999</td>\n",
              "      <td>0.104784</td>\n",
              "      <td>0.103221</td>\n",
              "    </tr>\n",
              "    <tr>\n",
              "      <th>online_gifts</th>\n",
              "      <td>0.084233</td>\n",
              "      <td>0.095116</td>\n",
              "      <td>0.089799</td>\n",
              "    </tr>\n",
              "    <tr>\n",
              "      <th>rideshare</th>\n",
              "      <td>0.065028</td>\n",
              "      <td>0.067782</td>\n",
              "      <td>0.068456</td>\n",
              "    </tr>\n",
              "    <tr>\n",
              "      <th>hotels</th>\n",
              "      <td>0.043360</td>\n",
              "      <td>0.049725</td>\n",
              "      <td>0.045235</td>\n",
              "    </tr>\n",
              "    <tr>\n",
              "      <th>fuel</th>\n",
              "      <td>0.030406</td>\n",
              "      <td>NaN</td>\n",
              "      <td>NaN</td>\n",
              "    </tr>\n",
              "    <tr>\n",
              "      <th>subscriptions</th>\n",
              "      <td>0.029123</td>\n",
              "      <td>0.030502</td>\n",
              "      <td>0.031141</td>\n",
              "    </tr>\n",
              "    <tr>\n",
              "      <th>auto</th>\n",
              "      <td>0.027533</td>\n",
              "      <td>0.028224</td>\n",
              "      <td>0.027114</td>\n",
              "    </tr>\n",
              "    <tr>\n",
              "      <th>health</th>\n",
              "      <td>0.024279</td>\n",
              "      <td>0.026279</td>\n",
              "      <td>0.025101</td>\n",
              "    </tr>\n",
              "    <tr>\n",
              "      <th>personal care</th>\n",
              "      <td>0.024116</td>\n",
              "      <td>0.026724</td>\n",
              "      <td>0.027785</td>\n",
              "    </tr>\n",
              "    <tr>\n",
              "      <th>airline</th>\n",
              "      <td>0.019599</td>\n",
              "      <td>0.020779</td>\n",
              "      <td>0.022953</td>\n",
              "    </tr>\n",
              "    <tr>\n",
              "      <th>mobileapps</th>\n",
              "      <td>0.019062</td>\n",
              "      <td>NaN</td>\n",
              "      <td>NaN</td>\n",
              "    </tr>\n",
              "    <tr>\n",
              "      <th>online_subscriptions</th>\n",
              "      <td>0.014074</td>\n",
              "      <td>NaN</td>\n",
              "      <td>NaN</td>\n",
              "    </tr>\n",
              "    <tr>\n",
              "      <th>furniture</th>\n",
              "      <td>0.009451</td>\n",
              "      <td>0.010056</td>\n",
              "      <td>0.008188</td>\n",
              "    </tr>\n",
              "    <tr>\n",
              "      <th>food_delivery</th>\n",
              "      <td>0.007630</td>\n",
              "      <td>NaN</td>\n",
              "      <td>NaN</td>\n",
              "    </tr>\n",
              "    <tr>\n",
              "      <th>gym</th>\n",
              "      <td>0.002809</td>\n",
              "      <td>NaN</td>\n",
              "      <td>NaN</td>\n",
              "    </tr>\n",
              "    <tr>\n",
              "      <th>cable/phone</th>\n",
              "      <td>0.001757</td>\n",
              "      <td>NaN</td>\n",
              "      <td>NaN</td>\n",
              "    </tr>\n",
              "  </tbody>\n",
              "</table>\n",
              "</div>\n",
              "      <button class=\"colab-df-convert\" onclick=\"convertToInteractive('df-7af14cd4-e306-499f-9354-63d24854906f')\"\n",
              "              title=\"Convert this dataframe to an interactive table.\"\n",
              "              style=\"display:none;\">\n",
              "        \n",
              "  <svg xmlns=\"http://www.w3.org/2000/svg\" height=\"24px\"viewBox=\"0 0 24 24\"\n",
              "       width=\"24px\">\n",
              "    <path d=\"M0 0h24v24H0V0z\" fill=\"none\"/>\n",
              "    <path d=\"M18.56 5.44l.94 2.06.94-2.06 2.06-.94-2.06-.94-.94-2.06-.94 2.06-2.06.94zm-11 1L8.5 8.5l.94-2.06 2.06-.94-2.06-.94L8.5 2.5l-.94 2.06-2.06.94zm10 10l.94 2.06.94-2.06 2.06-.94-2.06-.94-.94-2.06-.94 2.06-2.06.94z\"/><path d=\"M17.41 7.96l-1.37-1.37c-.4-.4-.92-.59-1.43-.59-.52 0-1.04.2-1.43.59L10.3 9.45l-7.72 7.72c-.78.78-.78 2.05 0 2.83L4 21.41c.39.39.9.59 1.41.59.51 0 1.02-.2 1.41-.59l7.78-7.78 2.81-2.81c.8-.78.8-2.07 0-2.86zM5.41 20L4 18.59l7.72-7.72 1.47 1.35L5.41 20z\"/>\n",
              "  </svg>\n",
              "      </button>\n",
              "      \n",
              "  <style>\n",
              "    .colab-df-container {\n",
              "      display:flex;\n",
              "      flex-wrap:wrap;\n",
              "      gap: 12px;\n",
              "    }\n",
              "\n",
              "    .colab-df-convert {\n",
              "      background-color: #E8F0FE;\n",
              "      border: none;\n",
              "      border-radius: 50%;\n",
              "      cursor: pointer;\n",
              "      display: none;\n",
              "      fill: #1967D2;\n",
              "      height: 32px;\n",
              "      padding: 0 0 0 0;\n",
              "      width: 32px;\n",
              "    }\n",
              "\n",
              "    .colab-df-convert:hover {\n",
              "      background-color: #E2EBFA;\n",
              "      box-shadow: 0px 1px 2px rgba(60, 64, 67, 0.3), 0px 1px 3px 1px rgba(60, 64, 67, 0.15);\n",
              "      fill: #174EA6;\n",
              "    }\n",
              "\n",
              "    [theme=dark] .colab-df-convert {\n",
              "      background-color: #3B4455;\n",
              "      fill: #D2E3FC;\n",
              "    }\n",
              "\n",
              "    [theme=dark] .colab-df-convert:hover {\n",
              "      background-color: #434B5C;\n",
              "      box-shadow: 0px 1px 3px 1px rgba(0, 0, 0, 0.15);\n",
              "      filter: drop-shadow(0px 1px 2px rgba(0, 0, 0, 0.3));\n",
              "      fill: #FFFFFF;\n",
              "    }\n",
              "  </style>\n",
              "\n",
              "      <script>\n",
              "        const buttonEl =\n",
              "          document.querySelector('#df-7af14cd4-e306-499f-9354-63d24854906f button.colab-df-convert');\n",
              "        buttonEl.style.display =\n",
              "          google.colab.kernel.accessAllowed ? 'block' : 'none';\n",
              "\n",
              "        async function convertToInteractive(key) {\n",
              "          const element = document.querySelector('#df-7af14cd4-e306-499f-9354-63d24854906f');\n",
              "          const dataTable =\n",
              "            await google.colab.kernel.invokeFunction('convertToInteractive',\n",
              "                                                     [key], {});\n",
              "          if (!dataTable) return;\n",
              "\n",
              "          const docLinkHtml = 'Like what you see? Visit the ' +\n",
              "            '<a target=\"_blank\" href=https://colab.research.google.com/notebooks/data_table.ipynb>data table notebook</a>'\n",
              "            + ' to learn more about interactive tables.';\n",
              "          element.innerHTML = '';\n",
              "          dataTable['output_type'] = 'display_data';\n",
              "          await google.colab.output.renderOutput(dataTable, element);\n",
              "          const docLink = document.createElement('div');\n",
              "          docLink.innerHTML = docLinkHtml;\n",
              "          element.appendChild(docLink);\n",
              "        }\n",
              "      </script>\n",
              "    </div>\n",
              "  </div>\n",
              "  "
            ],
            "text/plain": [
              "                      overall_proportion  reversed_proportion  multi_proportion\n",
              "MerchantCategory                                                               \n",
              "online_retail                   0.257077             0.275460          0.275705\n",
              "fastfood                        0.142603             0.155620          0.160000\n",
              "entertainment                   0.101859             0.108950          0.115302\n",
              "food                            0.095999             0.104784          0.103221\n",
              "online_gifts                    0.084233             0.095116          0.089799\n",
              "rideshare                       0.065028             0.067782          0.068456\n",
              "hotels                          0.043360             0.049725          0.045235\n",
              "fuel                            0.030406                  NaN               NaN\n",
              "subscriptions                   0.029123             0.030502          0.031141\n",
              "auto                            0.027533             0.028224          0.027114\n",
              "health                          0.024279             0.026279          0.025101\n",
              "personal care                   0.024116             0.026724          0.027785\n",
              "airline                         0.019599             0.020779          0.022953\n",
              "mobileapps                      0.019062                  NaN               NaN\n",
              "online_subscriptions            0.014074                  NaN               NaN\n",
              "furniture                       0.009451             0.010056          0.008188\n",
              "food_delivery                   0.007630                  NaN               NaN\n",
              "gym                             0.002809                  NaN               NaN\n",
              "cable/phone                     0.001757                  NaN               NaN"
            ]
          },
          "metadata": {},
          "execution_count": 33
        }
      ]
    },
    {
      "cell_type": "markdown",
      "source": [
        "From the dataset above, we can see that merchants with a high percentage of the total transaction are usually more likely to have canceled the transaction or multi-swipe transaction. It also means that most traders do not have much higher or lower options for performing reverse or multi-swipe transactions. However, for fuel dealers, there are no records in the However, for fuel dealers, there are no records in the canceled and multi-swipe transaction data, which make up more than 3% of the total transaction data. This means that fuel traders have little opportunity to offer their clients reverse or multi-swipe transactions."
      ],
      "metadata": {
        "id": "nj7qMQdQfxda"
      }
    },
    {
      "cell_type": "markdown",
      "source": [
        "We will now try to observe the time lapse between duplicate transactions."
      ],
      "metadata": {
        "id": "gprWXPzPfyyO"
      }
    },
    {
      "cell_type": "code",
      "source": [
        "#Time span of reversed transactions \n",
        "reversedTrans['time_span'] = ((reversedTrans.transactionDateTime_y - reversedTrans.transactionDateTime_x) / np.timedelta64(1, 'D')).astype(int)"
      ],
      "metadata": {
        "id": "AJVu_ljBfseE"
      },
      "execution_count": null,
      "outputs": []
    },
    {
      "cell_type": "code",
      "source": [
        "fig, ax = plt.subplots(nrows=1, ncols=2, figsize=(16, 8))\n",
        "sns.distplot(reversedTrans.time_span, hist=True, kde=True, ax=ax[0])\n",
        "ax[0].set_xlabel('Time span (days)')\n",
        "ax[0].set_title('Histogram of reversed transactions time span', fontsize=10)\n",
        "# A KDE plot of transactions without outliers\n",
        "sns.distplot(multi_swipe.time_span, hist=True, kde=True, ax=ax[1])\n",
        "ax[1].set_xlabel('Time span (hours)')\n",
        "ax[1].set_title('Histogram of multi-swipes transactions time span', fontsize=10)\n",
        "plt.tight_layout()\n",
        "plt.show()"
      ],
      "metadata": {
        "colab": {
          "base_uri": "https://localhost:8080/",
          "height": 585
        },
        "id": "DgsvF42nf57n",
        "outputId": "6b0de014-895a-45cd-d916-2f3f7b6fed97"
      },
      "execution_count": null,
      "outputs": [
        {
          "output_type": "display_data",
          "data": {
            "image/png": "[encoded data removed]",
            "text/plain": [
              "<Figure size 1152x576 with 2 Axes>"
            ]
          },
          "metadata": {
            "needs_background": "light"
          }
        }
      ]
    },
    {
      "cell_type": "markdown",
      "source": [
        "From the figure above, we can see that there are many days between some canceled transactions. And almost all of them happen within 50 days. Multi-swipe transactions often occur within seconds. Almost all of them occur within 3 minutes."
      ],
      "metadata": {
        "id": "4NA3yjXRgfNV"
      }
    },
    {
      "cell_type": "markdown",
      "source": [
        "## Question 4: Modeling "
      ],
      "metadata": {
        "id": "GWXF80vCgpo_"
      }
    },
    {
      "cell_type": "markdown",
      "source": [
        "### Pre-processing"
      ],
      "metadata": {
        "id": "Y80G8Rb_gsZx"
      }
    },
    {
      "cell_type": "code",
      "source": [
        "df1 = df.copy()"
      ],
      "metadata": {
        "id": "BdYImEd4gqtU"
      },
      "execution_count": null,
      "outputs": []
    },
    {
      "cell_type": "code",
      "source": [
        "#Drop columns with no records\n",
        "df1 = df1.drop(['echoBuffer', 'merchantCity', 'merchantState', 'merchantZip', 'posOnPremises', 'recurringAuthInd'], axis=1)"
      ],
      "metadata": {
        "id": "t2RAl6Vhgx1G"
      },
      "execution_count": null,
      "outputs": []
    },
    {
      "cell_type": "code",
      "source": [
        "# Inspect missing values columns\n",
        "missingValueColumns = df1.columns[df1.isnull().any()].tolist()\n",
        "percent_missing = df1[missingValueColumns].isnull().sum() / len(df1)"
      ],
      "metadata": {
        "id": "8Z2oN-log0se"
      },
      "execution_count": null,
      "outputs": []
    },
    {
      "cell_type": "code",
      "source": [
        "print(percent_missing)"
      ],
      "metadata": {
        "colab": {
          "base_uri": "https://localhost:8080/"
        },
        "id": "pYvCsIakg4JO",
        "outputId": "5e2c4a57-b10e-417b-fec7-31067e49808d"
      },
      "execution_count": null,
      "outputs": [
        {
          "output_type": "stream",
          "name": "stdout",
          "text": [
            "acqCountry             0.005801\n",
            "merchantCountryCode    0.000921\n",
            "posEntryMode           0.005155\n",
            "posConditionCode       0.000520\n",
            "transactionType        0.000888\n",
            "dtype: float64\n"
          ]
        }
      ]
    },
    {
      "cell_type": "markdown",
      "source": [
        "Since the percentage of missing values is really low, instead of dropping the columns, we can impute the values"
      ],
      "metadata": {
        "id": "1pmIkKT0g_QU"
      }
    },
    {
      "cell_type": "code",
      "source": [
        "# Inspecting missing values columns\n",
        "print(\"Frequency of values in column acqCountry: \\n\",df1.acqCountry.value_counts())\n",
        "print(\"Frequency of values in column merchantCountryCode: \\n\",df1.merchantCountryCode.value_counts())\n",
        "print(\"Frequency of values in column posEntryMode: \\n\",df1.posEntryMode.value_counts())\n",
        "print(\"Frequency of values in column posConditionCode: \\n\",df1.posConditionCode.value_counts())\n",
        "print(\"Frequency of values in column transactionType: \\n\",df1.transactionType.value_counts())"
      ],
      "metadata": {
        "colab": {
          "base_uri": "https://localhost:8080/"
        },
        "id": "69bKcaqIg7SG",
        "outputId": "c762b342-4011-4244-f051-b3424d97b29a"
      },
      "execution_count": null,
      "outputs": [
        {
          "output_type": "stream",
          "name": "stdout",
          "text": [
            "Frequency of values in column acqCountry: \n",
            " US     774709\n",
            "MEX      3130\n",
            "CAN      2424\n",
            "PR       1538\n",
            "Name: acqCountry, dtype: int64\n",
            "Frequency of values in column merchantCountryCode: \n",
            " US     778511\n",
            "MEX      3143\n",
            "CAN      2426\n",
            "PR       1559\n",
            "Name: merchantCountryCode, dtype: int64\n",
            "Frequency of values in column posEntryMode: \n",
            " 05    315035\n",
            "09    236481\n",
            "02    195934\n",
            "90     19576\n",
            "80     15283\n",
            "Name: posEntryMode, dtype: int64\n",
            "Frequency of values in column posConditionCode: \n",
            " 01    628787\n",
            "08    149634\n",
            "99      7533\n",
            "Name: posConditionCode, dtype: int64\n",
            "Frequency of values in column transactionType: \n",
            " PURCHASE                745193\n",
            "REVERSAL                 20303\n",
            "ADDRESS_VERIFICATION     20169\n",
            "Name: transactionType, dtype: int64\n"
          ]
        }
      ]
    },
    {
      "cell_type": "markdown",
      "source": [
        "We can see that all 5 columns are skewed to one category. So, we can use their respective modes to impute the missing values."
      ],
      "metadata": {
        "id": "QiD1pK3OhHZq"
      }
    },
    {
      "cell_type": "code",
      "source": [
        "df1['acqCountry'] = df1['acqCountry'].fillna(df1['acqCountry'].mode()[0])\n",
        "df1['merchantCountryCode'] = df1['merchantCountryCode'].fillna(df1['merchantCountryCode'].mode()[0])\n",
        "df1['posEntryMode'] = df1['posEntryMode'].fillna(df1['posEntryMode'].mode()[0])\n",
        "df1['posConditionCode'] = df1['posConditionCode'].fillna(df1['posConditionCode'].mode()[0])\n",
        "df1['transactionType'] = df1['transactionType'].fillna(df1['transactionType'].mode()[0])"
      ],
      "metadata": {
        "id": "PE7c_AbmhCrG"
      },
      "execution_count": null,
      "outputs": []
    },
    {
      "cell_type": "markdown",
      "source": [
        "### Feature Engineering"
      ],
      "metadata": {
        "id": "xMo4GjXdhNPG"
      }
    },
    {
      "cell_type": "markdown",
      "source": [
        "We will squeeze the columns that do not provide additional information into one column"
      ],
      "metadata": {
        "id": "s2jGb72ojyj-"
      }
    },
    {
      "cell_type": "code",
      "source": [
        "# Convert cardCVV and enteredCVV to rightCVV\n",
        "df1['rightCVV'] = (df1.cardCVV == df1.enteredCVV).astype(int)\n",
        "df1 = df1.drop(['cardCVV', 'enteredCVV'], axis=1)"
      ],
      "metadata": {
        "id": "z5Tr0QqkhLMo"
      },
      "execution_count": null,
      "outputs": []
    },
    {
      "cell_type": "code",
      "source": [
        "# Convert acqCountry and merchantCountryCode to sameCountry\n",
        "df1['sameCountry'] = (df1.acqCountry == df1.merchantCountryCode).astype(int)\n",
        "df1 = df1.drop(['acqCountry', 'merchantCountryCode'], axis=1)"
      ],
      "metadata": {
        "id": "Vtaieavqkgkj"
      },
      "execution_count": null,
      "outputs": []
    },
    {
      "cell_type": "code",
      "source": [
        "# Convert merchantName to first purchase\n",
        "df1 = df1.sort_values(['customerId', 'merchantName', 'transactionDateTime'])\n",
        "df1['firPurchase'] = df1.groupby(['customerId', 'merchantName']).cumcount()\n",
        "df1['firPurchase'][df1['firPurchase'] == 0] = 1\n",
        "df1['firPurchase'][df1['firPurchase'] > 0] = 0"
      ],
      "metadata": {
        "id": "bQ4dAFpHkyCT"
      },
      "execution_count": null,
      "outputs": []
    },
    {
      "cell_type": "code",
      "source": [
        "# Convert datetime to time span (days)\n",
        "df1['expTime'] = ((df1.currentExpDate - df1.transactionDateTime) / np.timedelta64(1, 'D'))\n",
        "df1['openTime'] = ((df1.transactionDateTime - df1.accountOpenDate) / np.timedelta64(1, 'D'))\n",
        "df1['changeAddTime'] = ((df1.transactionDateTime - df1.dateOfLastAddressChange) / np.timedelta64(1, 'D'))"
      ],
      "metadata": {
        "id": "AGSYWyfnk4ad"
      },
      "execution_count": null,
      "outputs": []
    },
    {
      "cell_type": "markdown",
      "source": [
        "The original record contains multiple dates, TransactionDateTime, currentExpDate, accountOpenDate, and dateOfLastAddressChange. I have converted these date and time features into more useful time interval features. For currentExpDate, change to expTime, which is the time between the transaction date and the expiration date. For accountOpenDate, change to openTime, which is the time between the account opening date and the transaction date. For dateOfLastAddressChange, change to changeAddTime, which is the time between the last address change date"
      ],
      "metadata": {
        "id": "hneJwjQnk9iL"
      }
    },
    {
      "cell_type": "code",
      "source": [
        "lst_re = ['accountNumber', 'transactionAmount', 'merchantName', 'transactionDateTime_y', 'transactionType_y']\n",
        "lst_or = ['accountNumber', 'transactionAmount', 'merchantName', 'transactionDateTime', 'transactionType']\n",
        "df1.loc[df1.set_index(lst_or).index.isin(reversedTrans.set_index(lst_re).index) == True, 'reversed'] = 1"
      ],
      "metadata": {
        "id": "uaQmzZM2k8g7"
      },
      "execution_count": null,
      "outputs": []
    },
    {
      "cell_type": "code",
      "source": [
        "df1.reversed = df1.reversed.fillna(0)"
      ],
      "metadata": {
        "id": "jdnHj1bUlDNT"
      },
      "execution_count": null,
      "outputs": []
    },
    {
      "cell_type": "code",
      "source": [
        "# Check number of reversed transactions and other transactions\n",
        "df1.reversed.value_counts()"
      ],
      "metadata": {
        "colab": {
          "base_uri": "https://localhost:8080/"
        },
        "id": "LmE5pxzElJfR",
        "outputId": "622f0f68-a5a2-460f-9cf9-3176159f9677"
      },
      "execution_count": null,
      "outputs": [
        {
          "output_type": "execute_result",
          "data": {
            "text/plain": [
              "0.0    768604\n",
              "1.0     17759\n",
              "Name: reversed, dtype: int64"
            ]
          },
          "metadata": {},
          "execution_count": 48
        }
      ]
    },
    {
      "cell_type": "code",
      "source": [
        "lst_mul = ['accountNumber', 'transactionAmount', 'merchantName', 'transactionDateTime', 'transactionType']\n",
        "lst_or = ['accountNumber', 'transactionAmount', 'merchantName', 'transactionDateTime', 'transactionType']\n",
        "df1.loc[df.set_index(lst_or).index.isin(multi_swipe.set_index(lst_mul).index) == True, 'multi'] = 1"
      ],
      "metadata": {
        "id": "dyCNVLWAlMRH"
      },
      "execution_count": null,
      "outputs": []
    },
    {
      "cell_type": "code",
      "source": [
        "# if not multi-swipe transaction, multi = 0\n",
        "df1.multi = df1.multi.fillna(0)"
      ],
      "metadata": {
        "id": "1laiZ0-WlP5C"
      },
      "execution_count": null,
      "outputs": []
    },
    {
      "cell_type": "code",
      "source": [
        "# Check the number of multi-swipe transactions\n",
        "df1.multi.value_counts()"
      ],
      "metadata": {
        "colab": {
          "base_uri": "https://localhost:8080/"
        },
        "id": "9bpG5kIHlTgR",
        "outputId": "8ac28951-e1fe-4e22-9e18-77490804c834"
      },
      "execution_count": null,
      "outputs": [
        {
          "output_type": "execute_result",
          "data": {
            "text/plain": [
              "0.0    778913\n",
              "1.0      7450\n",
              "Name: multi, dtype: int64"
            ]
          },
          "metadata": {},
          "execution_count": 51
        }
      ]
    },
    {
      "cell_type": "code",
      "source": [
        "#I have dropped columns which will not contribute in modeling and contain redundant information and are highly correlated with other fields\n",
        "df1 = df1.drop(['accountNumber', 'customerId', 'cardLast4Digits', 'merchantName', 'transactionDateTime', 'currentExpDate', 'accountOpenDate', 'dateOfLastAddressChange', 'availableMoney'], axis=1)"
      ],
      "metadata": {
        "id": "Kz2Ui2x-lWXy"
      },
      "execution_count": null,
      "outputs": []
    },
    {
      "cell_type": "code",
      "source": [
        "corr_matrix = df1.corr().abs()\n",
        "correlation = corr_matrix.where(np.triu(np.ones(corr_matrix.shape), k=1).astype(np.bool))\n",
        "correlation"
      ],
      "metadata": {
        "colab": {
          "base_uri": "https://localhost:8080/",
          "height": 552
        },
        "id": "28PvFCT1laZE",
        "outputId": "f40c2113-0021-486e-aae8-5a1b4ed5f457"
      },
      "execution_count": null,
      "outputs": [
        {
          "output_type": "execute_result",
          "data": {
            "text/html": [
              "\n",
              "  <div id=\"df-0abff4bc-a90b-47c0-864d-568235feec29\">\n",
              "    <div class=\"colab-df-container\">\n",
              "      <div>\n",
              "<style scoped>\n",
              "    .dataframe tbody tr th:only-of-type {\n",
              "        vertical-align: middle;\n",
              "    }\n",
              "\n",
              "    .dataframe tbody tr th {\n",
              "        vertical-align: top;\n",
              "    }\n",
              "\n",
              "    .dataframe thead th {\n",
              "        text-align: right;\n",
              "    }\n",
              "</style>\n",
              "<table border=\"1\" class=\"dataframe\">\n",
              "  <thead>\n",
              "    <tr style=\"text-align: right;\">\n",
              "      <th></th>\n",
              "      <th>creditLimit</th>\n",
              "      <th>transactionAmount</th>\n",
              "      <th>currentBalance</th>\n",
              "      <th>cardPresent</th>\n",
              "      <th>expirationDateKeyInMatch</th>\n",
              "      <th>isFraud</th>\n",
              "      <th>rightCVV</th>\n",
              "      <th>sameCountry</th>\n",
              "      <th>firPurchase</th>\n",
              "      <th>expTime</th>\n",
              "      <th>openTime</th>\n",
              "      <th>changeAddTime</th>\n",
              "      <th>reversed</th>\n",
              "      <th>multi</th>\n",
              "    </tr>\n",
              "  </thead>\n",
              "  <tbody>\n",
              "    <tr>\n",
              "      <th>creditLimit</th>\n",
              "      <td>NaN</td>\n",
              "      <td>0.005581</td>\n",
              "      <td>0.653652</td>\n",
              "      <td>0.003929</td>\n",
              "      <td>0.002391</td>\n",
              "      <td>0.003108</td>\n",
              "      <td>0.001343</td>\n",
              "      <td>0.000435</td>\n",
              "      <td>NaN</td>\n",
              "      <td>0.001460</td>\n",
              "      <td>0.061550</td>\n",
              "      <td>0.062469</td>\n",
              "      <td>0.001585</td>\n",
              "      <td>0.001490</td>\n",
              "    </tr>\n",
              "    <tr>\n",
              "      <th>transactionAmount</th>\n",
              "      <td>NaN</td>\n",
              "      <td>NaN</td>\n",
              "      <td>0.023905</td>\n",
              "      <td>0.037361</td>\n",
              "      <td>0.001751</td>\n",
              "      <td>0.075651</td>\n",
              "      <td>0.000701</td>\n",
              "      <td>0.002096</td>\n",
              "      <td>NaN</td>\n",
              "      <td>0.002073</td>\n",
              "      <td>0.007879</td>\n",
              "      <td>0.028430</td>\n",
              "      <td>0.013546</td>\n",
              "      <td>0.000180</td>\n",
              "    </tr>\n",
              "    <tr>\n",
              "      <th>currentBalance</th>\n",
              "      <td>NaN</td>\n",
              "      <td>NaN</td>\n",
              "      <td>NaN</td>\n",
              "      <td>0.010529</td>\n",
              "      <td>0.001285</td>\n",
              "      <td>0.007715</td>\n",
              "      <td>0.003221</td>\n",
              "      <td>0.001113</td>\n",
              "      <td>NaN</td>\n",
              "      <td>0.004031</td>\n",
              "      <td>0.081993</td>\n",
              "      <td>0.169767</td>\n",
              "      <td>0.007321</td>\n",
              "      <td>0.002807</td>\n",
              "    </tr>\n",
              "    <tr>\n",
              "      <th>cardPresent</th>\n",
              "      <td>NaN</td>\n",
              "      <td>NaN</td>\n",
              "      <td>NaN</td>\n",
              "      <td>NaN</td>\n",
              "      <td>0.040393</td>\n",
              "      <td>0.043418</td>\n",
              "      <td>0.002988</td>\n",
              "      <td>0.000816</td>\n",
              "      <td>NaN</td>\n",
              "      <td>0.000097</td>\n",
              "      <td>0.020536</td>\n",
              "      <td>0.013711</td>\n",
              "      <td>0.005678</td>\n",
              "      <td>0.001190</td>\n",
              "    </tr>\n",
              "    <tr>\n",
              "      <th>expirationDateKeyInMatch</th>\n",
              "      <td>NaN</td>\n",
              "      <td>NaN</td>\n",
              "      <td>NaN</td>\n",
              "      <td>NaN</td>\n",
              "      <td>NaN</td>\n",
              "      <td>0.000972</td>\n",
              "      <td>0.000113</td>\n",
              "      <td>0.000419</td>\n",
              "      <td>NaN</td>\n",
              "      <td>0.000886</td>\n",
              "      <td>0.001220</td>\n",
              "      <td>0.001014</td>\n",
              "      <td>0.002953</td>\n",
              "      <td>0.000403</td>\n",
              "    </tr>\n",
              "    <tr>\n",
              "      <th>isFraud</th>\n",
              "      <td>NaN</td>\n",
              "      <td>NaN</td>\n",
              "      <td>NaN</td>\n",
              "      <td>NaN</td>\n",
              "      <td>NaN</td>\n",
              "      <td>NaN</td>\n",
              "      <td>0.010006</td>\n",
              "      <td>0.000570</td>\n",
              "      <td>NaN</td>\n",
              "      <td>0.001772</td>\n",
              "      <td>0.005899</td>\n",
              "      <td>0.005933</td>\n",
              "      <td>0.001550</td>\n",
              "      <td>0.000804</td>\n",
              "    </tr>\n",
              "    <tr>\n",
              "      <th>rightCVV</th>\n",
              "      <td>NaN</td>\n",
              "      <td>NaN</td>\n",
              "      <td>NaN</td>\n",
              "      <td>NaN</td>\n",
              "      <td>NaN</td>\n",
              "      <td>NaN</td>\n",
              "      <td>NaN</td>\n",
              "      <td>0.001091</td>\n",
              "      <td>NaN</td>\n",
              "      <td>0.001445</td>\n",
              "      <td>0.000047</td>\n",
              "      <td>0.001246</td>\n",
              "      <td>0.000767</td>\n",
              "      <td>0.000215</td>\n",
              "    </tr>\n",
              "    <tr>\n",
              "      <th>sameCountry</th>\n",
              "      <td>NaN</td>\n",
              "      <td>NaN</td>\n",
              "      <td>NaN</td>\n",
              "      <td>NaN</td>\n",
              "      <td>NaN</td>\n",
              "      <td>NaN</td>\n",
              "      <td>NaN</td>\n",
              "      <td>NaN</td>\n",
              "      <td>NaN</td>\n",
              "      <td>0.001238</td>\n",
              "      <td>0.000514</td>\n",
              "      <td>0.000833</td>\n",
              "      <td>0.001229</td>\n",
              "      <td>0.001125</td>\n",
              "    </tr>\n",
              "    <tr>\n",
              "      <th>firPurchase</th>\n",
              "      <td>NaN</td>\n",
              "      <td>NaN</td>\n",
              "      <td>NaN</td>\n",
              "      <td>NaN</td>\n",
              "      <td>NaN</td>\n",
              "      <td>NaN</td>\n",
              "      <td>NaN</td>\n",
              "      <td>NaN</td>\n",
              "      <td>NaN</td>\n",
              "      <td>NaN</td>\n",
              "      <td>NaN</td>\n",
              "      <td>NaN</td>\n",
              "      <td>NaN</td>\n",
              "      <td>NaN</td>\n",
              "    </tr>\n",
              "    <tr>\n",
              "      <th>expTime</th>\n",
              "      <td>NaN</td>\n",
              "      <td>NaN</td>\n",
              "      <td>NaN</td>\n",
              "      <td>NaN</td>\n",
              "      <td>NaN</td>\n",
              "      <td>NaN</td>\n",
              "      <td>NaN</td>\n",
              "      <td>NaN</td>\n",
              "      <td>NaN</td>\n",
              "      <td>NaN</td>\n",
              "      <td>0.013492</td>\n",
              "      <td>0.003807</td>\n",
              "      <td>0.000334</td>\n",
              "      <td>0.000384</td>\n",
              "    </tr>\n",
              "    <tr>\n",
              "      <th>openTime</th>\n",
              "      <td>NaN</td>\n",
              "      <td>NaN</td>\n",
              "      <td>NaN</td>\n",
              "      <td>NaN</td>\n",
              "      <td>NaN</td>\n",
              "      <td>NaN</td>\n",
              "      <td>NaN</td>\n",
              "      <td>NaN</td>\n",
              "      <td>NaN</td>\n",
              "      <td>NaN</td>\n",
              "      <td>NaN</td>\n",
              "      <td>0.585585</td>\n",
              "      <td>0.000109</td>\n",
              "      <td>0.000246</td>\n",
              "    </tr>\n",
              "    <tr>\n",
              "      <th>changeAddTime</th>\n",
              "      <td>NaN</td>\n",
              "      <td>NaN</td>\n",
              "      <td>NaN</td>\n",
              "      <td>NaN</td>\n",
              "      <td>NaN</td>\n",
              "      <td>NaN</td>\n",
              "      <td>NaN</td>\n",
              "      <td>NaN</td>\n",
              "      <td>NaN</td>\n",
              "      <td>NaN</td>\n",
              "      <td>NaN</td>\n",
              "      <td>NaN</td>\n",
              "      <td>0.007471</td>\n",
              "      <td>0.001147</td>\n",
              "    </tr>\n",
              "    <tr>\n",
              "      <th>reversed</th>\n",
              "      <td>NaN</td>\n",
              "      <td>NaN</td>\n",
              "      <td>NaN</td>\n",
              "      <td>NaN</td>\n",
              "      <td>NaN</td>\n",
              "      <td>NaN</td>\n",
              "      <td>NaN</td>\n",
              "      <td>NaN</td>\n",
              "      <td>NaN</td>\n",
              "      <td>NaN</td>\n",
              "      <td>NaN</td>\n",
              "      <td>NaN</td>\n",
              "      <td>NaN</td>\n",
              "      <td>0.000508</td>\n",
              "    </tr>\n",
              "    <tr>\n",
              "      <th>multi</th>\n",
              "      <td>NaN</td>\n",
              "      <td>NaN</td>\n",
              "      <td>NaN</td>\n",
              "      <td>NaN</td>\n",
              "      <td>NaN</td>\n",
              "      <td>NaN</td>\n",
              "      <td>NaN</td>\n",
              "      <td>NaN</td>\n",
              "      <td>NaN</td>\n",
              "      <td>NaN</td>\n",
              "      <td>NaN</td>\n",
              "      <td>NaN</td>\n",
              "      <td>NaN</td>\n",
              "      <td>NaN</td>\n",
              "    </tr>\n",
              "  </tbody>\n",
              "</table>\n",
              "</div>\n",
              "      <button class=\"colab-df-convert\" onclick=\"convertToInteractive('df-0abff4bc-a90b-47c0-864d-568235feec29')\"\n",
              "              title=\"Convert this dataframe to an interactive table.\"\n",
              "              style=\"display:none;\">\n",
              "        \n",
              "  <svg xmlns=\"http://www.w3.org/2000/svg\" height=\"24px\"viewBox=\"0 0 24 24\"\n",
              "       width=\"24px\">\n",
              "    <path d=\"M0 0h24v24H0V0z\" fill=\"none\"/>\n",
              "    <path d=\"M18.56 5.44l.94 2.06.94-2.06 2.06-.94-2.06-.94-.94-2.06-.94 2.06-2.06.94zm-11 1L8.5 8.5l.94-2.06 2.06-.94-2.06-.94L8.5 2.5l-.94 2.06-2.06.94zm10 10l.94 2.06.94-2.06 2.06-.94-2.06-.94-.94-2.06-.94 2.06-2.06.94z\"/><path d=\"M17.41 7.96l-1.37-1.37c-.4-.4-.92-.59-1.43-.59-.52 0-1.04.2-1.43.59L10.3 9.45l-7.72 7.72c-.78.78-.78 2.05 0 2.83L4 21.41c.39.39.9.59 1.41.59.51 0 1.02-.2 1.41-.59l7.78-7.78 2.81-2.81c.8-.78.8-2.07 0-2.86zM5.41 20L4 18.59l7.72-7.72 1.47 1.35L5.41 20z\"/>\n",
              "  </svg>\n",
              "      </button>\n",
              "      \n",
              "  <style>\n",
              "    .colab-df-container {\n",
              "      display:flex;\n",
              "      flex-wrap:wrap;\n",
              "      gap: 12px;\n",
              "    }\n",
              "\n",
              "    .colab-df-convert {\n",
              "      background-color: #E8F0FE;\n",
              "      border: none;\n",
              "      border-radius: 50%;\n",
              "      cursor: pointer;\n",
              "      display: none;\n",
              "      fill: #1967D2;\n",
              "      height: 32px;\n",
              "      padding: 0 0 0 0;\n",
              "      width: 32px;\n",
              "    }\n",
              "\n",
              "    .colab-df-convert:hover {\n",
              "      background-color: #E2EBFA;\n",
              "      box-shadow: 0px 1px 2px rgba(60, 64, 67, 0.3), 0px 1px 3px 1px rgba(60, 64, 67, 0.15);\n",
              "      fill: #174EA6;\n",
              "    }\n",
              "\n",
              "    [theme=dark] .colab-df-convert {\n",
              "      background-color: #3B4455;\n",
              "      fill: #D2E3FC;\n",
              "    }\n",
              "\n",
              "    [theme=dark] .colab-df-convert:hover {\n",
              "      background-color: #434B5C;\n",
              "      box-shadow: 0px 1px 3px 1px rgba(0, 0, 0, 0.15);\n",
              "      filter: drop-shadow(0px 1px 2px rgba(0, 0, 0, 0.3));\n",
              "      fill: #FFFFFF;\n",
              "    }\n",
              "  </style>\n",
              "\n",
              "      <script>\n",
              "        const buttonEl =\n",
              "          document.querySelector('#df-0abff4bc-a90b-47c0-864d-568235feec29 button.colab-df-convert');\n",
              "        buttonEl.style.display =\n",
              "          google.colab.kernel.accessAllowed ? 'block' : 'none';\n",
              "\n",
              "        async function convertToInteractive(key) {\n",
              "          const element = document.querySelector('#df-0abff4bc-a90b-47c0-864d-568235feec29');\n",
              "          const dataTable =\n",
              "            await google.colab.kernel.invokeFunction('convertToInteractive',\n",
              "                                                     [key], {});\n",
              "          if (!dataTable) return;\n",
              "\n",
              "          const docLinkHtml = 'Like what you see? Visit the ' +\n",
              "            '<a target=\"_blank\" href=https://colab.research.google.com/notebooks/data_table.ipynb>data table notebook</a>'\n",
              "            + ' to learn more about interactive tables.';\n",
              "          element.innerHTML = '';\n",
              "          dataTable['output_type'] = 'display_data';\n",
              "          await google.colab.output.renderOutput(dataTable, element);\n",
              "          const docLink = document.createElement('div');\n",
              "          docLink.innerHTML = docLinkHtml;\n",
              "          element.appendChild(docLink);\n",
              "        }\n",
              "      </script>\n",
              "    </div>\n",
              "  </div>\n",
              "  "
            ],
            "text/plain": [
              "                          creditLimit  transactionAmount  ...  reversed     multi\n",
              "creditLimit                       NaN           0.005581  ...  0.001585  0.001490\n",
              "transactionAmount                 NaN                NaN  ...  0.013546  0.000180\n",
              "currentBalance                    NaN                NaN  ...  0.007321  0.002807\n",
              "cardPresent                       NaN                NaN  ...  0.005678  0.001190\n",
              "expirationDateKeyInMatch          NaN                NaN  ...  0.002953  0.000403\n",
              "isFraud                           NaN                NaN  ...  0.001550  0.000804\n",
              "rightCVV                          NaN                NaN  ...  0.000767  0.000215\n",
              "sameCountry                       NaN                NaN  ...  0.001229  0.001125\n",
              "firPurchase                       NaN                NaN  ...       NaN       NaN\n",
              "expTime                           NaN                NaN  ...  0.000334  0.000384\n",
              "openTime                          NaN                NaN  ...  0.000109  0.000246\n",
              "changeAddTime                     NaN                NaN  ...  0.007471  0.001147\n",
              "reversed                          NaN                NaN  ...       NaN  0.000508\n",
              "multi                             NaN                NaN  ...       NaN       NaN\n",
              "\n",
              "[14 rows x 14 columns]"
            ]
          },
          "metadata": {},
          "execution_count": 53
        }
      ]
    },
    {
      "cell_type": "markdown",
      "source": [
        "The highest correlation is 0.65. So we don't need to drop anymore columns."
      ],
      "metadata": {
        "id": "xggGf-4ellad"
      }
    },
    {
      "cell_type": "code",
      "source": [
        "# Convert categorical features into dummy variables\n",
        "cat = df1.select_dtypes(include=['object']).columns.to_list()\n",
        "df1 = pd.get_dummies(df1, cat, drop_first=True)"
      ],
      "metadata": {
        "id": "v06l1whElefN"
      },
      "execution_count": null,
      "outputs": []
    },
    {
      "cell_type": "code",
      "source": [
        "# Convert boolean features into int variables\n",
        "boo = df1.select_dtypes(include=['bool']).columns.to_list()\n",
        "for column in boo:\n",
        "    df1[column] = df1[column].astype(int)\n",
        "    df1.reversed = df1.reversed.astype(int)\n",
        "    df1.multi = df1.multi.astype(int)"
      ],
      "metadata": {
        "id": "G9SV5xDVlpYM"
      },
      "execution_count": null,
      "outputs": []
    },
    {
      "cell_type": "code",
      "source": [
        "fraud_vals = df1['isFraud'].value_counts()\n",
        "\n",
        "sns.barplot(x=[0,1], y=fraud_vals)\n",
        "plt.xticks(ticks=[0,1], labels=['False', 'True'])\n",
        "plt.ylabel('Number of class labels')"
      ],
      "metadata": {
        "colab": {
          "base_uri": "https://localhost:8080/",
          "height": 283
        },
        "id": "6WQaEaLgls91",
        "outputId": "7732e6f6-fa24-4d10-e05b-4d3abbbd85f6"
      },
      "execution_count": null,
      "outputs": [
        {
          "output_type": "execute_result",
          "data": {
            "text/plain": [
              "Text(0, 0.5, 'Number of class labels')"
            ]
          },
          "metadata": {},
          "execution_count": 56
        },
        {
          "output_type": "display_data",
          "data": {
            "image/png": "[encoded data removed]",
            "text/plain": [
              "<Figure size 432x288 with 1 Axes>"
            ]
          },
          "metadata": {
            "needs_background": "light"
          }
        }
      ]
    },
    {
      "cell_type": "markdown",
      "source": [
        "Machine Learning algorithms perform poorly on highly imbalanced dataset such as the one we have. Multiple techniques have been developed to mitigate this problem. Undersampling and oversampling are two of the most popular approaches. In undersampling, we randomly sample from the majority class the number of data points equal to that of the minority class. This creates a balanced dataset but loses on vital information from the majority class data that was not selected.\n",
        "\n",
        "Oversampling on the other hand uses methods to either resample the minority data points or generate new minority data points. SMOTE synthesises new minority instances between existing minority instances. Figuratively, it can be assumed that SMOTE draws lines between existing minority instances. It then interpolates the real minority instances along these lines to generate new data points."
      ],
      "metadata": {
        "id": "oVhpxTt9lzQU"
      }
    },
    {
      "cell_type": "code",
      "source": [
        "X = df1.drop(['isFraud'], axis = 1)\n",
        "y = df1[['isFraud']]\n",
        "sm = SMOTE(random_state=4)\n",
        "X_smote, y_smote = SMOTE().fit_resample(X, y)\n",
        "print( Original data distribution:  )\n",
        "print(y.isFraud.value_counts())\n",
        "print( SMOTE data distribution:  )\n",
        "print(y_smote.isFraud.value_counts())"
      ],
      "metadata": {
        "colab": {
          "base_uri": "https://localhost:8080/"
        },
        "id": "u3vndnI3lvma",
        "outputId": "d874bf2e-3d51-471c-d329-7c36825303a1"
      },
      "execution_count": null,
      "outputs": [
        {
          "output_type": "stream",
          "name": "stdout",
          "text": [
            "Original data distribution: \n",
            "0    773946\n",
            "1     12417\n",
            "Name: isFraud, dtype: int64\n",
            "SMOTE data distribution: \n",
            "1    773946\n",
            "0    773946\n",
            "Name: isFraud, dtype: int64\n"
          ]
        }
      ]
    },
    {
      "cell_type": "markdown",
      "source": [
        "### Model Building\n"
      ],
      "metadata": {
        "id": "lNijDnQTmAX8"
      }
    },
    {
      "cell_type": "markdown",
      "source": [
        "Decision Tree: Decision trees create classification or regression models in the form of a tree structure. As the dataset is divided into smaller and smaller subsets, the relevant decision trees are developed in stages. The end result is a tree with decision nodes and leaf nodes. The decision node has more than one branch. Leaf nodes represent classifications or decisions."
      ],
      "metadata": {
        "id": "LKtIAcAJLrx6"
      }
    },
    {
      "cell_type": "code",
      "source": [
        "def DT_pred(X, y):\n",
        "    RSC = RandomizedSearchCV(estimator=DecisionTreeClassifier(), param_distributions={'criterion': ['gini', 'entropy'], 'max_depth': range(1, 100, 10),\n",
        "                                                                                      'max_features': ['auto', 'sqrt', 'log2']},cv=3, scoring='roc_auc', n_jobs=-1, verbose = True)\n",
        "    search_result = RSC.fit(X, y)\n",
        "    print( \"Best using:\"  , search_result.best_params_,  \"Score:\"  , search_result.best_score_)\n",
        "    model_DT = DecisionTreeClassifier(criterion=search_result.best_params_[ \"criterion\" ],\n",
        "           max_depth=search_result.best_params_[ \"max_depth\" ],\n",
        "           max_features=search_result.best_params_[ \"max_features\" ])\n",
        "       # Split dataset into 3 consecutive folds\n",
        "    kf = KFold(n_splits=3, shuffle=True, random_state=None)\n",
        "    i = 1\n",
        "    for train, test in kf.split(X):  \n",
        "          X_train = X.iloc[train,:]\n",
        "          y_train = y.iloc[train,:]\n",
        "          X_test = X.iloc[test]\n",
        "          y_test = y.iloc[test]\n",
        "          model_DT.fit(X_train, y_train)\n",
        "          train_pred = model_DT.predict(X_train)\n",
        "          y_pred = model_DT.predict(X_test)\n",
        "          train_accuracy = accuracy_score(y_train, train_pred)\n",
        "          train_precision = precision_score(y_train, train_pred)\n",
        "          train_recall = recall_score(y_train, train_pred)\n",
        "          train_auc = roc_auc_score(y_train, train_pred)\n",
        "          test_accuracy = accuracy_score(y_test, y_pred)\n",
        "          test_precision = precision_score(y_test, y_pred)\n",
        "          test_recall = recall_score(y_test, y_pred)\n",
        "          test_auc = roc_auc_score(y_test, y_pred)\n",
        "          print('Fold '+ str(i), ':  Training accuracy: ', train_accuracy, 'Testing accuracy: ', test_accuracy)\n",
        "          print('Fold '+ str(i), ':  Training precision: ', train_precision, 'Testing precision: ', test_precision)\n",
        "          print('Fold '+ str(i), ':  Training recall: ', train_recall, 'Testing accuracy: ', test_recall)\n",
        "          print('Fold '+ str(i), ':  Training auc: ', train_auc, 'Testing auc: ', test_auc)\n",
        "          i += 1\n",
        "    return model_DT"
      ],
      "metadata": {
        "id": "UReLrVdCl7i9"
      },
      "execution_count": null,
      "outputs": []
    },
    {
      "cell_type": "code",
      "source": [
        "model_DT = DT_pred(X_smote, y_smote)"
      ],
      "metadata": {
        "colab": {
          "base_uri": "https://localhost:8080/"
        },
        "id": "msPKWEmZmEZ5",
        "outputId": "11e0f1a0-33ee-470e-f754-5adf28be7fb0"
      },
      "execution_count": null,
      "outputs": [
        {
          "output_type": "stream",
          "name": "stdout",
          "text": [
            "Fitting 3 folds for each of 10 candidates, totalling 30 fits\n",
            "Best using: {'max_features': 'log2', 'max_depth': 31, 'criterion': 'entropy'} Score: 0.9430961827757115\n",
            "Fold 1 :  Training accuracy:  0.9578749680210247 Testing accuracy:  0.934722189920227\n",
            "Fold 1 :  Training precision:  0.9381447127059924 Testing precision:  0.9131884329661201\n",
            "Fold 1 :  Training recall:  0.9803007081191192 Testing accuracy:  0.961067095815796\n",
            "Fold 1 :  Training auc:  0.9578972861650897 Testing auc:  0.934669595882792\n",
            "Fold 2 :  Training accuracy:  0.9615302618012109 Testing accuracy:  0.9363036956066703\n",
            "Fold 2 :  Training precision:  0.9428659109296681 Testing precision:  0.9152422965984789\n",
            "Fold 2 :  Training recall:  0.9825963076028492 Testing accuracy:  0.9616852891818883\n",
            "Fold 2 :  Training auc:  0.9615318539930902 Testing auc:  0.936299858006311\n",
            "Fold 3 :  Training accuracy:  0.9583788791466071 Testing accuracy:  0.9370285523796233\n",
            "Fold 3 :  Training precision:  0.9396334523471341 Testing precision:  0.9166783986247675\n",
            "Fold 3 :  Training recall:  0.979793501472362 Testing accuracy:  0.9611504531346508\n",
            "Fold 3 :  Training auc:  0.9583559027527271 Testing auc:  0.9370801485314695\n"
          ]
        }
      ]
    },
    {
      "cell_type": "markdown",
      "source": [
        "Random Forests: It uses ensemble learning,  a technique that combines many classifiers to find a solution to a complex problem. The random forest algorithm consists of many decision trees. \"Forests\" created by  random forest algorithms are trained either through batch processing or bootstrap aggregation. Bagging is an ensemble meta-algorithm that improves the accuracy of machine learning algorithms. The algorithm sets the outcome based on the predictions of the decision tree. It makes predictions by taking the average or average of the outputs of various trees. Increasing the number of trees increases the accuracy of the results."
      ],
      "metadata": {
        "id": "Hm0s2SSlLx5M"
      }
    },
    {
      "cell_type": "code",
      "source": [
        "def RF_pred(X, y):\n",
        "    RSC = RandomizedSearchCV(estimator=RandomForestClassifier(), param_distributions={'n_estimators': range(1, 200, 10),\n",
        "    'max_depth': range(1, 100, 10), 'max_features': ['auto', 'sqrt', 'log2']}, cv=3, scoring='roc_auc', n_jobs=-1)\n",
        "    search_result = RSC.fit(X, y)\n",
        "    print( \"Best using:\"  , search_result.best_params_,  Score:  , search_result.best_score_)\n",
        "    model_RF = RandomForestClassifier(n_estimators=search_result.best_params_[ \"n_estimators\" ], max_depth=search_result.best_params_[ \"max_depth\" ],\n",
        "    max_features=search_result.best_params_[ \"max_features\" ])\n",
        "    kf = KFold(n_splits=3, shuffle=True, random_state=None)\n",
        "    i = 1\n",
        "    for train, test in kf.split(X):\n",
        "        X_train = X.iloc[train,:]\n",
        "        y_train = y.iloc[train,:]\n",
        "        X_test = X.iloc[test]\n",
        "        y_test = y.iloc[test]\n",
        "        model_RF.fit(X_train, y_train)\n",
        "        train_pred = model_RF.predict(X_train)\n",
        "        y_pred = model_RF.predict(X_test)\n",
        "        train_accuracy = accuracy_score(y_train, train_pred)\n",
        "        train_precision = precision_score(y_train, train_pred)\n",
        "        train_recall = recall_score(y_train, train_pred)\n",
        "        train_auc = roc_auc_score(y_train, train_pred)\n",
        "        test_accuracy = accuracy_score(y_test, y_pred)\n",
        "        test_precision = precision_score(y_test, y_pred)\n",
        "        test_recall = recall_score(y_test, y_pred)\n",
        "        test_auc = roc_auc_score(y_test, y_pred)\n",
        "        print('Fold '+ str(i), ':  Training accuracy: ', train_accuracy, 'Testing accuracy: ', test_accuracy)\n",
        "        print('Fold '+ str(i), ':  Training precision: ', train_precision, 'Testing precision: ', test_precision)\n",
        "        print('Fold '+ str(i), ':  Training recall: ', train_recall, 'Testing accuracy: ', test_recall)\n",
        "        print('Fold '+ str(i), ':  Training auc: ', train_auc, 'Testing auc: ', test_auc)\n",
        "        i += 1\n",
        "    return model_RF"
      ],
      "metadata": {
        "id": "mkxXyXlKmK9n"
      },
      "execution_count": null,
      "outputs": []
    },
    {
      "cell_type": "code",
      "source": [
        "model_RF = RF_pred(X_smote, y_smote)"
      ],
      "metadata": {
        "id": "J_Pj5yngnNxE",
        "colab": {
          "base_uri": "https://localhost:8080/"
        },
        "outputId": "e26b189c-9f6a-4d78-834d-6c914110dec8"
      },
      "execution_count": null,
      "outputs": [
        {
          "output_type": "stream",
          "name": "stdout",
          "text": [
            "Best using:  {'n_estimators': 161, 'max_features': 'sqrt', 'max_depth': 61} Score:  0.992943718835208\n",
            "Fold 1 :  Training accuracy:  0.9999990309401431 Testing accuracy:  0.9766185237729764\n",
            "Fold 1 :  Training precision:  1.0 Testing precision:  0.9698503992412886\n",
            "Fold 1 :  Training recall:  0.999998062593722 Testing accuracy:  0.9837853773584906\n",
            "Fold 1 :  Training auc:  0.999999031296861 Testing auc:  0.9766237981721415\n",
            "Fold 2 :  Training accuracy:  0.9999990309401431 Testing accuracy:  0.9764014543650332\n",
            "Fold 2 :  Training precision:  1.0 Testing precision:  0.9697024118851832\n",
            "Fold 2 :  Training recall:  0.9999980617300223 Testing accuracy:  0.9835401632418941\n",
            "Fold 2 :  Training auc:  0.9999990308650111 Testing auc:  0.976400347339597\n",
            "Fold 3 :  Training accuracy:  0.9999990309401431 Testing accuracy:  0.9762657859850687\n",
            "Fold 3 :  Training precision:  0.9999980613204347 Testing precision:  0.9698075570908868\n",
            "Fold 3 :  Training recall:  1.0 Testing accuracy:  0.9831675266917701\n",
            "Fold 3 :  Training auc:  0.9999990312217844 Testing auc:  0.9762617707305385\n"
          ]
        }
      ]
    },
    {
      "cell_type": "markdown",
      "source": [
        "Light Gradient Boosting Model : It is a gradient boosting framework that uses a tree  learning algorithm. Light GBM grows trees vertically. He will choose the leaf with the maximum delta loss for growth. I choose Light GBM because it has a faster learning rate and higher efficiency, but at the same time generally has a higher accuracy.\n"
      ],
      "metadata": {
        "id": "rIg3GY6WL4Tm"
      }
    },
    {
      "cell_type": "code",
      "source": [
        "def LGB_pred(X, y): \n",
        "    RSC = RandomizedSearchCV( \n",
        "             estimator=lgb.LGBMClassifier(),\n",
        "             param_distributions = { 'boosting_type': ['gbdt', 'goss', 'dart'],\n",
        "                           'num_leaves': range(10, 500, 25), \n",
        "                           'bagging_fraction': [0.1, 0.3, 0.5, 0.7, 0.9],\n",
        "                           'learning_rate': [0.001, 0.005, 0.01, 0.05, 0.1, 0.3, 0.5],\n",
        "                           'min_data': [200, 300, 400, 500, 600],\n",
        "                           'max_bin': [3, 5, 10, 12, 15, 18, 20, 22],\n",
        "                           'lambda_l1': [1, 10, 20, 30, 40],\n",
        "                           'feature_fraction': [0.5, 0.7, 0.8, 0.9],\n",
        "                           'max_depth': range(1, 50, 10)}, cv=3, scoring='roc_auc', n_jobs=-1) \n",
        "    search_result = RSC.fit(X, y) \n",
        "    print( \"Best using:\"  , search_result.best_score_, search_result.best_params_) \n",
        "    model_LGB = lgb.LGBMClassifier( \n",
        "             boosting_type=search_result.best_params_[  \"boosting_type\"  ] ,\n",
        "             num_leaves=search_result.best_params_[  \"num_leaves\"  ],\n",
        "             bagging_fraction=search_result.best_params_[  \"bagging_fraction\"  ],\n",
        "             learning_rate=search_result.best_params_[  \"learning_rate\"  ],\n",
        "             min_data=search_result.best_params_[  \"min_data\"  ] ,\n",
        "             max_bin=search_result.best_params_[  \"max_bin\"  ],\n",
        "             lambda_l1=search_result.best_params_[  \"lambda_l1\"  ],\n",
        "             feature_fraction=search_result.best_params_[  \"feature_fraction\"  ],\n",
        "             max_depth=search_result.best_params_[  \"max_depth\"  ]) \n",
        "          \n",
        "      \n",
        "         # Split dataset into 5 consecutive folds \n",
        "    kf = KFold(n_splits=3, shuffle=True, random_state=None) \n",
        "          \n",
        "    i = 1 \n",
        "    for train, test in kf.split(X):   \n",
        "        X_train = X.iloc[train,:] \n",
        "        y_train = y.iloc[train,:] \n",
        "        X_test = X.iloc[test] \n",
        "        y_test = y.iloc[test] \n",
        "        model_LGB.fit(X_train, y_train) \n",
        "        train_pred = model_LGB.predict(X_train) \n",
        "        y_pred = model_LGB.predict(X_test) \n",
        "              \n",
        "        train_accuracy = accuracy_score(y_train, train_pred) \n",
        "        train_precision = precision_score(y_train, train_pred) \n",
        "        train_recall = recall_score(y_train, train_pred) \n",
        "        train_auc = roc_auc_score(y_train, train_pred) \n",
        "              \n",
        "        test_accuracy = accuracy_score(y_test, y_pred) \n",
        "        test_precision = precision_score(y_test, y_pred) \n",
        "        test_recall = recall_score(y_test, y_pred) \n",
        "        test_auc = roc_auc_score(y_test, y_pred)         \n",
        "              \n",
        "        print('Fold '+ str(i), ':  Training accuracy: ', train_accuracy, 'Testing accuracy: ', test_accuracy) \n",
        "        print('Fold '+ str(i), ':  Training precision: ', train_precision, 'Testing precision: ', test_precision) \n",
        "        print('Fold '+ str(i), ':  Training recall: ', train_recall, 'Testing accuracy: ', test_recall) \n",
        "        print('Fold '+ str(i), ':  Training auc: ', train_auc, 'Testing auc: ', test_auc) \n",
        "              \n",
        "        i += 1 \n",
        "      \n",
        "    return model_LGB "
      ],
      "metadata": {
        "id": "ArA-3PHAnS4j"
      },
      "execution_count": null,
      "outputs": []
    },
    {
      "cell_type": "code",
      "source": [
        "model_LGB = LGB_pred(X_smote, y_smote)"
      ],
      "metadata": {
        "id": "m-I4CwcKnf8V",
        "colab": {
          "base_uri": "https://localhost:8080/"
        },
        "outputId": "51dcee36-56ee-45f1-f3fd-568107f599b0"
      },
      "execution_count": null,
      "outputs": [
        {
          "output_type": "stream",
          "name": "stdout",
          "text": [
            "Best using: 0.9746691837317322 {'num_leaves': 410, 'min_data': 500, 'max_depth': 41, 'max_bin': 12, 'learning_rate': 0.1, 'lambda_l1': 20, 'feature_fraction': 0.9, 'boosting_type': 'goss', 'bagging_fraction': 0.9}\n",
            "Fold 1 :  Training accuracy:  0.9304854602259073 Testing accuracy:  0.9293380933553503\n",
            "Fold 1 :  Training precision:  0.9292474583073649 Testing precision:  0.9271874709833173\n",
            "Fold 1 :  Training recall:  0.9321287900049356 Testing accuracy:  0.9314433851164634\n",
            "Fold 1 :  Training auc:  0.9304832564603747 Testing auc:  0.9293437172766986\n",
            "Fold 2 :  Training accuracy:  0.9308982797249421 Testing accuracy:  0.928834182229768\n",
            "Fold 2 :  Training precision:  0.9295556411005383 Testing precision:  0.9280773536109932\n",
            "Fold 2 :  Training recall:  0.9323041463031335 Testing accuracy:  0.9300410408358251\n",
            "Fold 2 :  Training auc:  0.9308997522640632 Testing auc:  0.928831646073888\n",
            "Fold 3 :  Training accuracy:  0.9304079354373561 Testing accuracy:  0.9288710065043297\n",
            "Fold 3 :  Training precision:  0.9292525977516445 Testing precision:  0.9281063189723839\n",
            "Fold 3 :  Training recall:  0.931709879917955 Testing accuracy:  0.9298537182526769\n",
            "Fold 3 :  Training auc:  0.9304083138259914 Testing auc:  0.9288704347880096\n"
          ]
        }
      ]
    },
    {
      "cell_type": "markdown",
      "source": [
        "## Performance estimation"
      ],
      "metadata": {
        "id": "eoz9IgPSnq_w"
      }
    },
    {
      "cell_type": "code",
      "source": [
        "X_train, X_test, y_train, y_test = train_test_split(X_smote, y_smote, random_state=2, test_size=0.30)"
      ],
      "metadata": {
        "id": "OGsKhtGenm7O"
      },
      "execution_count": null,
      "outputs": []
    },
    {
      "cell_type": "code",
      "source": [
        "def plot_performance(y_test, y_pred, y_pred_prob):\n",
        "\n",
        "\n",
        "    test_fpr, test_tpr, _ = roc_curve(y_test, y_pred_prob)\n",
        "    precision, recall, _ = precision_recall_curve(y_test, y_pred)\n",
        "    \n",
        "    # ROC Curve\n",
        "    fig = plt.figure(1, figsize=(10,5))\n",
        "    plt.subplot(1, 2, 1)\n",
        "    plt.plot(test_fpr, test_tpr, label=\"ROC (area = %0.4f)\" % roc_auc_score(y_test, y_pred), color=\"blue\", lw=2)\n",
        "    plt.plot([0, 1], [0, 1], \"k--\")\n",
        "    plt.legend(loc=\"lower right\")\n",
        "    plt.xlabel(\"False Positive Rate\")\n",
        "    plt.ylabel(\"True Positive Rate\")\n",
        "    plt.title(\"ROC Curve\")\n",
        "    \n",
        "    \n",
        "    # Precision Recall Curve\n",
        "    plt.subplot(1, 2, 2)\n",
        "    plt.plot(recall, precision, marker='.', color=\"blue\", lw=2)\n",
        "    plt.xlabel('Recall')\n",
        "    plt.ylabel('Precision')\n",
        "    plt.title(\"Precision Recall Curve\")\n",
        "    \n",
        "    \n",
        "    plt.tight_layout()\n",
        "    plt.show()"
      ],
      "metadata": {
        "id": "0nZoyaOBn0Lw"
      },
      "execution_count": null,
      "outputs": []
    },
    {
      "cell_type": "code",
      "source": [
        "def plot_confusion(y_test, y_pred):   \n",
        "    \n",
        "    cm = confusion_matrix(y_test, y_pred)\n",
        "    \n",
        "    # Confusion Matrix\n",
        "    plt.figure(figsize=(10,10))\n",
        "    ax =  fig.add_subplot(1,1,1, adjustable='box', aspect=1)\n",
        "    plt.imshow(cm, interpolation='nearest', cmap=plt.cm.Blues)\n",
        "    plt.colorbar()\n",
        "\n",
        "    thresh = cm.max() / 2.\n",
        "    for i, j in itertools.product(range(cm.shape[0]), range(cm.shape[1])):\n",
        "        plt.text(j, i, format(cm[i, j], 'd'),\n",
        "                 horizontalalignment=\"center\",\n",
        "                 color=\"white\" if cm[i, j] > thresh else \"black\")\n",
        "\n",
        "    plt.ylabel('True label')\n",
        "    plt.xlabel('Predicted label')\n",
        "\n",
        "    np.set_printoptions(precision=2)\n",
        "    plt.show()\n",
        "    "
      ],
      "metadata": {
        "id": "wsP6WqJTn4an"
      },
      "execution_count": null,
      "outputs": []
    },
    {
      "cell_type": "code",
      "source": [
        "# Decision Tree performance\n",
        "y_pred = model_DT.predict(X_test)\n",
        "y_pred_prob = model_DT.predict_proba(X_test)\n",
        "y_pred_prob = y_pred_prob[:, 1]\n",
        "plot_performance(y_test, y_pred, y_pred_prob)\n",
        "plot_confusion(y_test, y_pred)"
      ],
      "metadata": {
        "colab": {
          "base_uri": "https://localhost:8080/",
          "height": 928
        },
        "id": "C9YjJyqBCoa1",
        "outputId": "f1476e51-a350-4d32-c94b-1562a125701b"
      },
      "execution_count": null,
      "outputs": [
        {
          "output_type": "display_data",
          "data": {
            "image/png": "[encoded data removed]",
            "text/plain": [
              "<Figure size 720x360 with 2 Axes>"
            ]
          },
          "metadata": {
            "needs_background": "light"
          }
        },
        {
          "output_type": "display_data",
          "data": {
            "image/png": "[encoded data removed]",
            "text/plain": [
              "<Figure size 720x720 with 2 Axes>"
            ]
          },
          "metadata": {
            "needs_background": "light"
          }
        }
      ]
    },
    {
      "cell_type": "code",
      "source": [
        "# Random Forest performance  \n",
        "y_pred = model_RF.predict(X_test)  \n",
        "y_pred_prob = model_RF.predict_proba(X_test)  \n",
        "y_pred_prob = y_pred_prob[:, 1]  \n",
        "       \n",
        "plot_performance(y_test, y_pred, y_pred_prob)  \n",
        "plot_confusion(y_test, y_pred)"
      ],
      "metadata": {
        "colab": {
          "base_uri": "https://localhost:8080/",
          "height": 926
        },
        "id": "AOhFaLWwFtso",
        "outputId": "e42add3d-b6d2-4f86-a17c-db3a2152104e"
      },
      "execution_count": null,
      "outputs": [
        {
          "output_type": "display_data",
          "data": {
            "image/png": "[encoded data removed]",
            "text/plain": [
              "<Figure size 720x360 with 2 Axes>"
            ]
          },
          "metadata": {
            "needs_background": "light"
          }
        },
        {
          "output_type": "display_data",
          "data": {
            "image/png": "[encoded data removed]",
            "text/plain": [
              "<Figure size 720x720 with 2 Axes>"
            ]
          },
          "metadata": {
            "needs_background": "light"
          }
        }
      ]
    },
    {
      "cell_type": "code",
      "source": [
        "# LGB performance\n",
        "y_pred = model_LGB.predict(X_test) \n",
        "y_pred_prob = model_LGB.predict_proba(X_test)  \n",
        "y_pred_prob = y_pred_prob[:, 1]  \n",
        "    \n",
        "plot_performance(y_test, y_pred, y_pred_prob) \n",
        "plot_confusion(y_test, y_pred) "
      ],
      "metadata": {
        "colab": {
          "base_uri": "https://localhost:8080/",
          "height": 926
        },
        "id": "bG1Xbc_5JOWH",
        "outputId": "af7a0be6-fe69-43fa-89a9-287d9ba7fba8"
      },
      "execution_count": null,
      "outputs": [
        {
          "output_type": "display_data",
          "data": {
            "image/png": "[encoded data removed]",
            "text/plain": [
              "<Figure size 720x360 with 2 Axes>"
            ]
          },
          "metadata": {
            "needs_background": "light"
          }
        },
        {
          "output_type": "display_data",
          "data": {
            "image/png": "[encoded data removed]",
            "text/plain": [
              "<Figure size 720x720 with 2 Axes>"
            ]
          },
          "metadata": {
            "needs_background": "light"
          }
        }
      ]
    },
    {
      "cell_type": "markdown",
      "source": [
        "Random forests have the best performance in comparison to Decision Trees and Light Gradient Boosting models. However their training takes much longer. \n",
        "\n",
        "I will still prefer Random Forests for this model since the training can be sped up by using GPUs and multithreading. "
      ],
      "metadata": {
        "id": "uillzH6dIZnB"
      }
    },
    {
      "cell_type": "markdown",
      "source": [
        "Randomized Search: Random search is a method in which random combinations of hyperparameters are selected and used to train a model. The best random hyperparameter combinations are used. we do not specify a set of possible values for every hyperparameter. Instead, we sample values from a statistical distribution for each hyperparameter. A sampling distribution is defined for every hyperparameter to do a random search. This technique allows us to control the number of attempted hyperparameter combinations.\n",
        "\n",
        "Precision-recall curve: The Precision-Recall curve summarizes the trade-offs between the true positive rate and the positive predictive value of a predictive model using different probability thresholds. It is more appropriate for imbalanced datasets.\n",
        "\n",
        "ROC Curve: The ROC curve summarizes the trade-offs between true positive rate and false positive rate in predictive models using different probability thresholds."
      ],
      "metadata": {
        "id": "iEbr2qvTeSJM"
      }
    },
    {
      "cell_type": "markdown",
      "source": [
        "### Significant features"
      ],
      "metadata": {
        "id": "fut_XxRZg-qx"
      }
    },
    {
      "cell_type": "code",
      "source": [
        "importances = model_RF.feature_importances_\n",
        "indices = np.argsort(importances)[::-1]\n",
        "\n",
        "top_10= 10\n",
        "top_indices = indices[:top_10]\n",
        "\n",
        "plt.figure(figsize=(15,8))\n",
        "plt.title(\"Feature importances\")\n",
        "plt.bar(range(10), importances[top_indices], align=\"center\", color=\"blue\")\n",
        "plt.xticks(range(10), np.array(X.columns)[indices][0:10])\n",
        "plt.show()"
      ],
      "metadata": {
        "colab": {
          "base_uri": "https://localhost:8080/",
          "height": 500
        },
        "id": "TlNyvuKgJsuf",
        "outputId": "9156017d-1c22-4967-8438-f3247c1dbdd7"
      },
      "execution_count": null,
      "outputs": [
        {
          "output_type": "display_data",
          "data": {
            "image/png": "[encoded data removed]",
            "text/plain": [
              "<Figure size 1080x576 with 1 Axes>"
            ]
          },
          "metadata": {
            "needs_background": "light"
          }
        }
      ]
    },
    {
      "cell_type": "markdown",
      "source": [
        "If I had more time, I would employ PCA for pre-processing, to only use components that introduce the most variance in the dataset.\n",
        "I would observe the results of other boosting models like XGBoost. I would also use Artificial Neural Networks and Bayesian Belief Networks to have a more sophisticated anomaly detection model."
      ],
      "metadata": {
        "id": "dU5SxDETcDXd"
      }
    },
    {
      "cell_type": "code",
      "source": [
        ""
      ],
      "metadata": {
        "id": "VmHhZt93eJsD"
      },
      "execution_count": null,
      "outputs": []
    }
  ]
}